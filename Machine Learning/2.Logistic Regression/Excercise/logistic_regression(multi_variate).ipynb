{
 "cells": [
  {
   "cell_type": "code",
   "execution_count": 2,
   "id": "3f82c370",
   "metadata": {},
   "outputs": [],
   "source": [
    "import pandas as pd\n",
    "import matplotlib.pyplot as plt\n",
    "from sklearn.datasets import load_iris"
   ]
  },
  {
   "cell_type": "code",
   "execution_count": 3,
   "id": "78389ec2",
   "metadata": {},
   "outputs": [
    {
     "data": {
      "text/plain": [
       "['DESCR',\n",
       " 'data',\n",
       " 'data_module',\n",
       " 'feature_names',\n",
       " 'filename',\n",
       " 'frame',\n",
       " 'target',\n",
       " 'target_names']"
      ]
     },
     "execution_count": 3,
     "metadata": {},
     "output_type": "execute_result"
    }
   ],
   "source": [
    "iris_images= load_iris()\n",
    "dir(iris_images)"
   ]
  },
  {
   "cell_type": "code",
   "execution_count": 4,
   "id": "4bda5fb1-4784-40ef-b0b1-8d924d8df52c",
   "metadata": {},
   "outputs": [
    {
     "data": {
      "text/plain": [
       "(150, 4)"
      ]
     },
     "execution_count": 4,
     "metadata": {},
     "output_type": "execute_result"
    }
   ],
   "source": [
    "iris_images.data.shape"
   ]
  },
  {
   "cell_type": "code",
   "execution_count": 5,
   "id": "8ed1ebcb",
   "metadata": {},
   "outputs": [
    {
     "data": {
      "text/plain": [
       "array([5.1, 3.5, 1.4, 0.2])"
      ]
     },
     "execution_count": 5,
     "metadata": {},
     "output_type": "execute_result"
    }
   ],
   "source": [
    "iris_images.data[0]"
   ]
  },
  {
   "cell_type": "code",
   "execution_count": 6,
   "id": "1913815f",
   "metadata": {},
   "outputs": [
    {
     "data": {
      "text/plain": [
       "0"
      ]
     },
     "execution_count": 6,
     "metadata": {},
     "output_type": "execute_result"
    }
   ],
   "source": [
    "iris_images.target[0]"
   ]
  },
  {
   "cell_type": "code",
   "execution_count": 7,
   "id": "cd22fe59",
   "metadata": {},
   "outputs": [
    {
     "data": {
      "text/plain": [
       "'setosa'"
      ]
     },
     "execution_count": 7,
     "metadata": {},
     "output_type": "execute_result"
    }
   ],
   "source": [
    "iris_images.target_names[0]"
   ]
  },
  {
   "cell_type": "code",
   "execution_count": 8,
   "id": "98c8d93e",
   "metadata": {},
   "outputs": [
    {
     "data": {
      "text/plain": [
       "['sepal length (cm)',\n",
       " 'sepal width (cm)',\n",
       " 'petal length (cm)',\n",
       " 'petal width (cm)']"
      ]
     },
     "execution_count": 8,
     "metadata": {},
     "output_type": "execute_result"
    }
   ],
   "source": [
    "iris_images.feature_names"
   ]
  },
  {
   "cell_type": "code",
   "execution_count": 21,
   "id": "ad23ee54",
   "metadata": {},
   "outputs": [],
   "source": [
    "from sklearn.model_selection import train_test_split\n",
    "\n",
    "X_train,X_test,y_train,y_test= train_test_split(iris_images.data,iris_images.target, test_size=0.3)\n"
   ]
  },
  {
   "cell_type": "code",
   "execution_count": 22,
   "id": "16267506",
   "metadata": {},
   "outputs": [],
   "source": [
    "from sklearn.linear_model import LogisticRegression\n",
    "\n",
    "reg= LogisticRegression()"
   ]
  },
  {
   "cell_type": "code",
   "execution_count": 23,
   "id": "8bd8ac7d",
   "metadata": {},
   "outputs": [
    {
     "data": {
      "text/html": [
       "<style>#sk-container-id-3 {color: black;background-color: white;}#sk-container-id-3 pre{padding: 0;}#sk-container-id-3 div.sk-toggleable {background-color: white;}#sk-container-id-3 label.sk-toggleable__label {cursor: pointer;display: block;width: 100%;margin-bottom: 0;padding: 0.3em;box-sizing: border-box;text-align: center;}#sk-container-id-3 label.sk-toggleable__label-arrow:before {content: \"▸\";float: left;margin-right: 0.25em;color: #696969;}#sk-container-id-3 label.sk-toggleable__label-arrow:hover:before {color: black;}#sk-container-id-3 div.sk-estimator:hover label.sk-toggleable__label-arrow:before {color: black;}#sk-container-id-3 div.sk-toggleable__content {max-height: 0;max-width: 0;overflow: hidden;text-align: left;background-color: #f0f8ff;}#sk-container-id-3 div.sk-toggleable__content pre {margin: 0.2em;color: black;border-radius: 0.25em;background-color: #f0f8ff;}#sk-container-id-3 input.sk-toggleable__control:checked~div.sk-toggleable__content {max-height: 200px;max-width: 100%;overflow: auto;}#sk-container-id-3 input.sk-toggleable__control:checked~label.sk-toggleable__label-arrow:before {content: \"▾\";}#sk-container-id-3 div.sk-estimator input.sk-toggleable__control:checked~label.sk-toggleable__label {background-color: #d4ebff;}#sk-container-id-3 div.sk-label input.sk-toggleable__control:checked~label.sk-toggleable__label {background-color: #d4ebff;}#sk-container-id-3 input.sk-hidden--visually {border: 0;clip: rect(1px 1px 1px 1px);clip: rect(1px, 1px, 1px, 1px);height: 1px;margin: -1px;overflow: hidden;padding: 0;position: absolute;width: 1px;}#sk-container-id-3 div.sk-estimator {font-family: monospace;background-color: #f0f8ff;border: 1px dotted black;border-radius: 0.25em;box-sizing: border-box;margin-bottom: 0.5em;}#sk-container-id-3 div.sk-estimator:hover {background-color: #d4ebff;}#sk-container-id-3 div.sk-parallel-item::after {content: \"\";width: 100%;border-bottom: 1px solid gray;flex-grow: 1;}#sk-container-id-3 div.sk-label:hover label.sk-toggleable__label {background-color: #d4ebff;}#sk-container-id-3 div.sk-serial::before {content: \"\";position: absolute;border-left: 1px solid gray;box-sizing: border-box;top: 0;bottom: 0;left: 50%;z-index: 0;}#sk-container-id-3 div.sk-serial {display: flex;flex-direction: column;align-items: center;background-color: white;padding-right: 0.2em;padding-left: 0.2em;position: relative;}#sk-container-id-3 div.sk-item {position: relative;z-index: 1;}#sk-container-id-3 div.sk-parallel {display: flex;align-items: stretch;justify-content: center;background-color: white;position: relative;}#sk-container-id-3 div.sk-item::before, #sk-container-id-3 div.sk-parallel-item::before {content: \"\";position: absolute;border-left: 1px solid gray;box-sizing: border-box;top: 0;bottom: 0;left: 50%;z-index: -1;}#sk-container-id-3 div.sk-parallel-item {display: flex;flex-direction: column;z-index: 1;position: relative;background-color: white;}#sk-container-id-3 div.sk-parallel-item:first-child::after {align-self: flex-end;width: 50%;}#sk-container-id-3 div.sk-parallel-item:last-child::after {align-self: flex-start;width: 50%;}#sk-container-id-3 div.sk-parallel-item:only-child::after {width: 0;}#sk-container-id-3 div.sk-dashed-wrapped {border: 1px dashed gray;margin: 0 0.4em 0.5em 0.4em;box-sizing: border-box;padding-bottom: 0.4em;background-color: white;}#sk-container-id-3 div.sk-label label {font-family: monospace;font-weight: bold;display: inline-block;line-height: 1.2em;}#sk-container-id-3 div.sk-label-container {text-align: center;}#sk-container-id-3 div.sk-container {/* jupyter's `normalize.less` sets `[hidden] { display: none; }` but bootstrap.min.css set `[hidden] { display: none !important; }` so we also need the `!important` here to be able to override the default hidden behavior on the sphinx rendered scikit-learn.org. See: https://github.com/scikit-learn/scikit-learn/issues/21755 */display: inline-block !important;position: relative;}#sk-container-id-3 div.sk-text-repr-fallback {display: none;}</style><div id=\"sk-container-id-3\" class=\"sk-top-container\"><div class=\"sk-text-repr-fallback\"><pre>LogisticRegression()</pre><b>In a Jupyter environment, please rerun this cell to show the HTML representation or trust the notebook. <br />On GitHub, the HTML representation is unable to render, please try loading this page with nbviewer.org.</b></div><div class=\"sk-container\" hidden><div class=\"sk-item\"><div class=\"sk-estimator sk-toggleable\"><input class=\"sk-toggleable__control sk-hidden--visually\" id=\"sk-estimator-id-3\" type=\"checkbox\" checked><label for=\"sk-estimator-id-3\" class=\"sk-toggleable__label sk-toggleable__label-arrow\">LogisticRegression</label><div class=\"sk-toggleable__content\"><pre>LogisticRegression()</pre></div></div></div></div></div>"
      ],
      "text/plain": [
       "LogisticRegression()"
      ]
     },
     "execution_count": 23,
     "metadata": {},
     "output_type": "execute_result"
    }
   ],
   "source": [
    "reg.fit(X_train,y_train)"
   ]
  },
  {
   "cell_type": "code",
   "execution_count": 24,
   "id": "3c779d95",
   "metadata": {},
   "outputs": [
    {
     "data": {
      "text/plain": [
       "array([2, 1, 1, 0, 1, 2, 0, 1, 0, 0, 2, 2, 1, 1, 2, 0, 0, 1, 0, 1, 2, 2,\n",
       "       1, 0, 1, 1, 0, 2, 1, 2, 0, 1, 1, 1, 1, 1, 2, 1, 1, 2, 1, 2, 0, 1,\n",
       "       0])"
      ]
     },
     "execution_count": 24,
     "metadata": {},
     "output_type": "execute_result"
    }
   ],
   "source": [
    "y_test"
   ]
  },
  {
   "cell_type": "code",
   "execution_count": 25,
   "id": "7dec8ae6",
   "metadata": {},
   "outputs": [
    {
     "data": {
      "text/plain": [
       "array([2, 2, 1, 0, 1, 2, 0, 1, 0, 0, 2, 2, 1, 1, 2, 0, 0, 2, 0, 1, 2, 2,\n",
       "       1, 0, 1, 1, 0, 2, 1, 2, 0, 1, 1, 1, 1, 1, 2, 1, 1, 2, 1, 2, 0, 1,\n",
       "       0])"
      ]
     },
     "execution_count": 25,
     "metadata": {},
     "output_type": "execute_result"
    }
   ],
   "source": [
    "reg.predict(X_test)"
   ]
  },
  {
   "cell_type": "code",
   "execution_count": 26,
   "id": "03931d00",
   "metadata": {},
   "outputs": [
    {
     "data": {
      "text/plain": [
       "0.9555555555555556"
      ]
     },
     "execution_count": 26,
     "metadata": {},
     "output_type": "execute_result"
    }
   ],
   "source": [
    "reg.score(X_test,y_test)"
   ]
  },
  {
   "cell_type": "code",
   "execution_count": 27,
   "id": "bc6691aa-72b3-4816-ae21-db346c15e9ce",
   "metadata": {},
   "outputs": [],
   "source": [
    "from sklearn.metrics import classification_report"
   ]
  },
  {
   "cell_type": "code",
   "execution_count": 28,
   "id": "8af3b78d",
   "metadata": {},
   "outputs": [
    {
     "data": {
      "text/plain": [
       "array([[12,  0,  0],\n",
       "       [ 0, 19,  2],\n",
       "       [ 0,  0, 12]])"
      ]
     },
     "execution_count": 28,
     "metadata": {},
     "output_type": "execute_result"
    }
   ],
   "source": [
    "from sklearn.metrics import confusion_matrix\n",
    "y_predict= reg.predict(X_test)\n",
    "cm= confusion_matrix(y_test,y_predict)\n",
    "cm"
   ]
  },
  {
   "cell_type": "code",
   "execution_count": 14,
   "id": "55150d92",
   "metadata": {},
   "outputs": [
    {
     "data": {
      "image/png": "[encoded data removed]",
      "text/plain": [
       "<Figure size 300x300 with 2 Axes>"
      ]
     },
     "metadata": {},
     "output_type": "display_data"
    }
   ],
   "source": [
    "import seaborn as sn\n",
    "plt.figure(figsize=(3,3))\n",
    "sn.heatmap(cm,annot= True)\n",
    "plt.xlabel= \"Truth\"\n",
    "plt.ylabel= \"Predicted\""
   ]
  },
  {
   "cell_type": "code",
   "execution_count": 15,
   "id": "f662c14f",
   "metadata": {},
   "outputs": [],
   "source": [
    "from sklearn.tree import DecisionTreeClassifier"
   ]
  },
  {
   "cell_type": "code",
   "execution_count": 16,
   "id": "4d6339be-73b7-4e52-b1b5-2f4d316ea82a",
   "metadata": {},
   "outputs": [
    {
     "data": {
      "text/html": [
       "<style>#sk-container-id-2 {color: black;background-color: white;}#sk-container-id-2 pre{padding: 0;}#sk-container-id-2 div.sk-toggleable {background-color: white;}#sk-container-id-2 label.sk-toggleable__label {cursor: pointer;display: block;width: 100%;margin-bottom: 0;padding: 0.3em;box-sizing: border-box;text-align: center;}#sk-container-id-2 label.sk-toggleable__label-arrow:before {content: \"▸\";float: left;margin-right: 0.25em;color: #696969;}#sk-container-id-2 label.sk-toggleable__label-arrow:hover:before {color: black;}#sk-container-id-2 div.sk-estimator:hover label.sk-toggleable__label-arrow:before {color: black;}#sk-container-id-2 div.sk-toggleable__content {max-height: 0;max-width: 0;overflow: hidden;text-align: left;background-color: #f0f8ff;}#sk-container-id-2 div.sk-toggleable__content pre {margin: 0.2em;color: black;border-radius: 0.25em;background-color: #f0f8ff;}#sk-container-id-2 input.sk-toggleable__control:checked~div.sk-toggleable__content {max-height: 200px;max-width: 100%;overflow: auto;}#sk-container-id-2 input.sk-toggleable__control:checked~label.sk-toggleable__label-arrow:before {content: \"▾\";}#sk-container-id-2 div.sk-estimator input.sk-toggleable__control:checked~label.sk-toggleable__label {background-color: #d4ebff;}#sk-container-id-2 div.sk-label input.sk-toggleable__control:checked~label.sk-toggleable__label {background-color: #d4ebff;}#sk-container-id-2 input.sk-hidden--visually {border: 0;clip: rect(1px 1px 1px 1px);clip: rect(1px, 1px, 1px, 1px);height: 1px;margin: -1px;overflow: hidden;padding: 0;position: absolute;width: 1px;}#sk-container-id-2 div.sk-estimator {font-family: monospace;background-color: #f0f8ff;border: 1px dotted black;border-radius: 0.25em;box-sizing: border-box;margin-bottom: 0.5em;}#sk-container-id-2 div.sk-estimator:hover {background-color: #d4ebff;}#sk-container-id-2 div.sk-parallel-item::after {content: \"\";width: 100%;border-bottom: 1px solid gray;flex-grow: 1;}#sk-container-id-2 div.sk-label:hover label.sk-toggleable__label {background-color: #d4ebff;}#sk-container-id-2 div.sk-serial::before {content: \"\";position: absolute;border-left: 1px solid gray;box-sizing: border-box;top: 0;bottom: 0;left: 50%;z-index: 0;}#sk-container-id-2 div.sk-serial {display: flex;flex-direction: column;align-items: center;background-color: white;padding-right: 0.2em;padding-left: 0.2em;position: relative;}#sk-container-id-2 div.sk-item {position: relative;z-index: 1;}#sk-container-id-2 div.sk-parallel {display: flex;align-items: stretch;justify-content: center;background-color: white;position: relative;}#sk-container-id-2 div.sk-item::before, #sk-container-id-2 div.sk-parallel-item::before {content: \"\";position: absolute;border-left: 1px solid gray;box-sizing: border-box;top: 0;bottom: 0;left: 50%;z-index: -1;}#sk-container-id-2 div.sk-parallel-item {display: flex;flex-direction: column;z-index: 1;position: relative;background-color: white;}#sk-container-id-2 div.sk-parallel-item:first-child::after {align-self: flex-end;width: 50%;}#sk-container-id-2 div.sk-parallel-item:last-child::after {align-self: flex-start;width: 50%;}#sk-container-id-2 div.sk-parallel-item:only-child::after {width: 0;}#sk-container-id-2 div.sk-dashed-wrapped {border: 1px dashed gray;margin: 0 0.4em 0.5em 0.4em;box-sizing: border-box;padding-bottom: 0.4em;background-color: white;}#sk-container-id-2 div.sk-label label {font-family: monospace;font-weight: bold;display: inline-block;line-height: 1.2em;}#sk-container-id-2 div.sk-label-container {text-align: center;}#sk-container-id-2 div.sk-container {/* jupyter's `normalize.less` sets `[hidden] { display: none; }` but bootstrap.min.css set `[hidden] { display: none !important; }` so we also need the `!important` here to be able to override the default hidden behavior on the sphinx rendered scikit-learn.org. See: https://github.com/scikit-learn/scikit-learn/issues/21755 */display: inline-block !important;position: relative;}#sk-container-id-2 div.sk-text-repr-fallback {display: none;}</style><div id=\"sk-container-id-2\" class=\"sk-top-container\"><div class=\"sk-text-repr-fallback\"><pre>DecisionTreeClassifier()</pre><b>In a Jupyter environment, please rerun this cell to show the HTML representation or trust the notebook. <br />On GitHub, the HTML representation is unable to render, please try loading this page with nbviewer.org.</b></div><div class=\"sk-container\" hidden><div class=\"sk-item\"><div class=\"sk-estimator sk-toggleable\"><input class=\"sk-toggleable__control sk-hidden--visually\" id=\"sk-estimator-id-2\" type=\"checkbox\" checked><label for=\"sk-estimator-id-2\" class=\"sk-toggleable__label sk-toggleable__label-arrow\">DecisionTreeClassifier</label><div class=\"sk-toggleable__content\"><pre>DecisionTreeClassifier()</pre></div></div></div></div></div>"
      ],
      "text/plain": [
       "DecisionTreeClassifier()"
      ]
     },
     "execution_count": 16,
     "metadata": {},
     "output_type": "execute_result"
    }
   ],
   "source": [
    "dt_model = DecisionTreeClassifier()\n",
    "dt_model.fit(X_train,y_train)"
   ]
  },
  {
   "cell_type": "code",
   "execution_count": 18,
   "id": "98583967-950f-402a-a30a-365ee2e012e5",
   "metadata": {},
   "outputs": [],
   "source": [
    "y_pred = dt_model.predict(X_test)"
   ]
  },
  {
   "cell_type": "code",
   "execution_count": 20,
   "id": "36dcefb7-48e8-4bfa-aa87-2482dfdb17e9",
   "metadata": {},
   "outputs": [
    {
     "data": {
      "text/plain": [
       "0.9555555555555556"
      ]
     },
     "execution_count": 20,
     "metadata": {},
     "output_type": "execute_result"
    }
   ],
   "source": [
    "dt_model.score(X_test,y_test)"
   ]
  },
  {
   "cell_type": "code",
   "execution_count": 21,
   "id": "40ce203e-cfde-437b-b465-0c1b33ff5f27",
   "metadata": {},
   "outputs": [
    {
     "data": {
      "text/plain": [
       "array([[17,  0,  0],\n",
       "       [ 0, 16,  0],\n",
       "       [ 0,  2, 10]])"
      ]
     },
     "execution_count": 21,
     "metadata": {},
     "output_type": "execute_result"
    }
   ],
   "source": [
    "from sklearn.metrics import confusion_matrix\n",
    "y_pred = dt_model.predict(X_test)\n",
    "cm= confusion_matrix(y_test,y_pred)\n",
    "cm"
   ]
  },
  {
   "cell_type": "code",
   "execution_count": 22,
   "id": "5e31fb18-d9f6-45d5-9737-462c7845c7a6",
   "metadata": {},
   "outputs": [
    {
     "data": {
      "image/png": "[encoded data removed]",
      "text/plain": [
       "<Figure size 300x300 with 2 Axes>"
      ]
     },
     "metadata": {},
     "output_type": "display_data"
    }
   ],
   "source": [
    "import seaborn as sn\n",
    "plt.figure(figsize=(3,3))\n",
    "sn.heatmap(cm,annot= True)\n",
    "plt.xlabel= \"Truth\"\n",
    "plt.ylabel= \"Predicted\""
   ]
  },
  {
   "cell_type": "code",
   "execution_count": 23,
   "id": "8dfec4ef-affb-4200-b656-179f15b61876",
   "metadata": {},
   "outputs": [],
   "source": [
    "import tensorflow as tf"
   ]
  },
  {
   "cell_type": "code",
   "execution_count": 24,
   "id": "6b17f934-5dd3-477f-82b3-fe92d11d0ca3",
   "metadata": {},
   "outputs": [],
   "source": [
    "# Define neural network architecture\n",
    "model = tf.keras.models.Sequential([\n",
    "    tf.keras.layers.Dense(10, activation='relu', input_shape=(4,)),\n",
    "    tf.keras.layers.Dense(3, activation='softmax')\n",
    "])"
   ]
  },
  {
   "cell_type": "code",
   "execution_count": 25,
   "id": "f7ded74a-4a5b-42e0-914e-a0fab842cb71",
   "metadata": {},
   "outputs": [],
   "source": [
    "# Compile the model\n",
    "model.compile(optimizer='adam',\n",
    "              loss='categorical_crossentropy',\n",
    "              metrics=['accuracy'])"
   ]
  },
  {
   "cell_type": "code",
   "execution_count": 28,
   "id": "e185e799-0ac6-4012-8645-0d3daee201c7",
   "metadata": {},
   "outputs": [
    {
     "name": "stdout",
     "output_type": "stream",
     "text": [
      "Epoch 1/100\n"
     ]
    },
    {
     "ename": "ValueError",
     "evalue": "in user code:\n\n    File \"/opt/anaconda3/lib/python3.11/site-packages/keras/engine/training.py\", line 1284, in train_function  *\n        return step_function(self, iterator)\n    File \"/opt/anaconda3/lib/python3.11/site-packages/keras/engine/training.py\", line 1268, in step_function  **\n        outputs = model.distribute_strategy.run(run_step, args=(data,))\n    File \"/opt/anaconda3/lib/python3.11/site-packages/keras/engine/training.py\", line 1249, in run_step  **\n        outputs = model.train_step(data)\n    File \"/opt/anaconda3/lib/python3.11/site-packages/keras/engine/training.py\", line 1051, in train_step\n        loss = self.compute_loss(x, y, y_pred, sample_weight)\n    File \"/opt/anaconda3/lib/python3.11/site-packages/keras/engine/training.py\", line 1109, in compute_loss\n        return self.compiled_loss(\n    File \"/opt/anaconda3/lib/python3.11/site-packages/keras/engine/compile_utils.py\", line 265, in __call__\n        loss_value = loss_obj(y_t, y_p, sample_weight=sw)\n    File \"/opt/anaconda3/lib/python3.11/site-packages/keras/losses.py\", line 142, in __call__\n        losses = call_fn(y_true, y_pred)\n    File \"/opt/anaconda3/lib/python3.11/site-packages/keras/losses.py\", line 268, in call  **\n        return ag_fn(y_true, y_pred, **self._fn_kwargs)\n    File \"/opt/anaconda3/lib/python3.11/site-packages/keras/losses.py\", line 1984, in categorical_crossentropy\n        return backend.categorical_crossentropy(\n    File \"/opt/anaconda3/lib/python3.11/site-packages/keras/backend.py\", line 5559, in categorical_crossentropy\n        target.shape.assert_is_compatible_with(output.shape)\n\n    ValueError: Shapes (5, 1) and (5, 3) are incompatible\n",
     "output_type": "error",
     "traceback": [
      "\u001b[0;31m---------------------------------------------------------------------------\u001b[0m",
      "\u001b[0;31mValueError\u001b[0m                                Traceback (most recent call last)",
      "Cell \u001b[0;32mIn[28], line 2\u001b[0m\n\u001b[1;32m      1\u001b[0m \u001b[38;5;66;03m# Train the model\u001b[39;00m\n\u001b[0;32m----> 2\u001b[0m model\u001b[38;5;241m.\u001b[39mfit(X_train, y_train, epochs\u001b[38;5;241m=\u001b[39m\u001b[38;5;241m100\u001b[39m, batch_size\u001b[38;5;241m=\u001b[39m\u001b[38;5;241m5\u001b[39m, verbose\u001b[38;5;241m=\u001b[39m\u001b[38;5;241m1\u001b[39m)\n\u001b[1;32m      4\u001b[0m \u001b[38;5;66;03m# Evaluate the model\u001b[39;00m\n\u001b[1;32m      5\u001b[0m loss, accuracy \u001b[38;5;241m=\u001b[39m model\u001b[38;5;241m.\u001b[39mevaluate(X_test, y_test)\n",
      "File \u001b[0;32m/opt/anaconda3/lib/python3.11/site-packages/keras/utils/traceback_utils.py:70\u001b[0m, in \u001b[0;36mfilter_traceback.<locals>.error_handler\u001b[0;34m(*args, **kwargs)\u001b[0m\n\u001b[1;32m     67\u001b[0m     filtered_tb \u001b[38;5;241m=\u001b[39m _process_traceback_frames(e\u001b[38;5;241m.\u001b[39m__traceback__)\n\u001b[1;32m     68\u001b[0m     \u001b[38;5;66;03m# To get the full stack trace, call:\u001b[39;00m\n\u001b[1;32m     69\u001b[0m     \u001b[38;5;66;03m# `tf.debugging.disable_traceback_filtering()`\u001b[39;00m\n\u001b[0;32m---> 70\u001b[0m     \u001b[38;5;28;01mraise\u001b[39;00m e\u001b[38;5;241m.\u001b[39mwith_traceback(filtered_tb) \u001b[38;5;28;01mfrom\u001b[39;00m \u001b[38;5;28;01mNone\u001b[39;00m\n\u001b[1;32m     71\u001b[0m \u001b[38;5;28;01mfinally\u001b[39;00m:\n\u001b[1;32m     72\u001b[0m     \u001b[38;5;28;01mdel\u001b[39;00m filtered_tb\n",
      "File \u001b[0;32m/var/folders/db/y2f9wrld6q5214f91hwssy880000gn/T/__autograph_generated_filetfme90uu.py:15\u001b[0m, in \u001b[0;36mouter_factory.<locals>.inner_factory.<locals>.tf__train_function\u001b[0;34m(iterator)\u001b[0m\n\u001b[1;32m     13\u001b[0m \u001b[38;5;28;01mtry\u001b[39;00m:\n\u001b[1;32m     14\u001b[0m     do_return \u001b[38;5;241m=\u001b[39m \u001b[38;5;28;01mTrue\u001b[39;00m\n\u001b[0;32m---> 15\u001b[0m     retval_ \u001b[38;5;241m=\u001b[39m ag__\u001b[38;5;241m.\u001b[39mconverted_call(ag__\u001b[38;5;241m.\u001b[39mld(step_function), (ag__\u001b[38;5;241m.\u001b[39mld(\u001b[38;5;28mself\u001b[39m), ag__\u001b[38;5;241m.\u001b[39mld(iterator)), \u001b[38;5;28;01mNone\u001b[39;00m, fscope)\n\u001b[1;32m     16\u001b[0m \u001b[38;5;28;01mexcept\u001b[39;00m:\n\u001b[1;32m     17\u001b[0m     do_return \u001b[38;5;241m=\u001b[39m \u001b[38;5;28;01mFalse\u001b[39;00m\n",
      "\u001b[0;31mValueError\u001b[0m: in user code:\n\n    File \"/opt/anaconda3/lib/python3.11/site-packages/keras/engine/training.py\", line 1284, in train_function  *\n        return step_function(self, iterator)\n    File \"/opt/anaconda3/lib/python3.11/site-packages/keras/engine/training.py\", line 1268, in step_function  **\n        outputs = model.distribute_strategy.run(run_step, args=(data,))\n    File \"/opt/anaconda3/lib/python3.11/site-packages/keras/engine/training.py\", line 1249, in run_step  **\n        outputs = model.train_step(data)\n    File \"/opt/anaconda3/lib/python3.11/site-packages/keras/engine/training.py\", line 1051, in train_step\n        loss = self.compute_loss(x, y, y_pred, sample_weight)\n    File \"/opt/anaconda3/lib/python3.11/site-packages/keras/engine/training.py\", line 1109, in compute_loss\n        return self.compiled_loss(\n    File \"/opt/anaconda3/lib/python3.11/site-packages/keras/engine/compile_utils.py\", line 265, in __call__\n        loss_value = loss_obj(y_t, y_p, sample_weight=sw)\n    File \"/opt/anaconda3/lib/python3.11/site-packages/keras/losses.py\", line 142, in __call__\n        losses = call_fn(y_true, y_pred)\n    File \"/opt/anaconda3/lib/python3.11/site-packages/keras/losses.py\", line 268, in call  **\n        return ag_fn(y_true, y_pred, **self._fn_kwargs)\n    File \"/opt/anaconda3/lib/python3.11/site-packages/keras/losses.py\", line 1984, in categorical_crossentropy\n        return backend.categorical_crossentropy(\n    File \"/opt/anaconda3/lib/python3.11/site-packages/keras/backend.py\", line 5559, in categorical_crossentropy\n        target.shape.assert_is_compatible_with(output.shape)\n\n    ValueError: Shapes (5, 1) and (5, 3) are incompatible\n"
     ]
    }
   ],
   "source": [
    "# Train the model\n",
    "model.fit(X_train, y_train, epochs=100, batch_size=5, verbose=1)\n",
    "\n",
    "# Evaluate the model\n",
    "loss, accuracy = model.evaluate(X_test, y_test)\n",
    "print(\"Test Loss:\", loss)\n",
    "print(\"Test Accuracy:\", accuracy)"
   ]
  },
  {
   "cell_type": "code",
   "execution_count": 29,
   "id": "8f119a43-d4ca-4f51-8f91-ad60554f6c4b",
   "metadata": {},
   "outputs": [
    {
     "name": "stdout",
     "output_type": "stream",
     "text": [
      "Epoch 1/100\n",
      "24/24 [==============================] - 0s 635us/step - loss: 3.4845 - accuracy: 0.3333\n",
      "Epoch 2/100\n",
      "24/24 [==============================] - 0s 552us/step - loss: 2.5457 - accuracy: 0.3417\n",
      "Epoch 3/100\n",
      "24/24 [==============================] - 0s 523us/step - loss: 1.9486 - accuracy: 0.6250\n",
      "Epoch 4/100\n",
      "24/24 [==============================] - 0s 531us/step - loss: 1.5720 - accuracy: 0.6583\n",
      "Epoch 5/100\n",
      "24/24 [==============================] - 0s 495us/step - loss: 1.2730 - accuracy: 0.6583\n",
      "Epoch 6/100\n",
      "24/24 [==============================] - 0s 503us/step - loss: 1.0162 - accuracy: 0.6583\n",
      "Epoch 7/100\n",
      "24/24 [==============================] - 0s 484us/step - loss: 0.8120 - accuracy: 0.6583\n",
      "Epoch 8/100\n",
      "24/24 [==============================] - 0s 493us/step - loss: 0.6783 - accuracy: 0.6583\n",
      "Epoch 9/100\n",
      "24/24 [==============================] - 0s 508us/step - loss: 0.6183 - accuracy: 0.6583\n",
      "Epoch 10/100\n",
      "24/24 [==============================] - 0s 509us/step - loss: 0.5958 - accuracy: 0.6583\n",
      "Epoch 11/100\n",
      "24/24 [==============================] - 0s 503us/step - loss: 0.5885 - accuracy: 0.7167\n",
      "Epoch 12/100\n",
      "24/24 [==============================] - 0s 506us/step - loss: 0.5815 - accuracy: 0.7000\n",
      "Epoch 13/100\n",
      "24/24 [==============================] - 0s 484us/step - loss: 0.5752 - accuracy: 0.7167\n",
      "Epoch 14/100\n",
      "24/24 [==============================] - 0s 505us/step - loss: 0.5700 - accuracy: 0.7083\n",
      "Epoch 15/100\n",
      "24/24 [==============================] - 0s 509us/step - loss: 0.5647 - accuracy: 0.7250\n",
      "Epoch 16/100\n",
      "24/24 [==============================] - 0s 511us/step - loss: 0.5606 - accuracy: 0.8000\n",
      "Epoch 17/100\n",
      "24/24 [==============================] - 0s 502us/step - loss: 0.5532 - accuracy: 0.8083\n",
      "Epoch 18/100\n",
      "24/24 [==============================] - 0s 503us/step - loss: 0.5478 - accuracy: 0.8333\n",
      "Epoch 19/100\n",
      "24/24 [==============================] - 0s 497us/step - loss: 0.5425 - accuracy: 0.8583\n",
      "Epoch 20/100\n",
      "24/24 [==============================] - 0s 932us/step - loss: 0.5383 - accuracy: 0.7500\n",
      "Epoch 21/100\n",
      "24/24 [==============================] - 0s 834us/step - loss: 0.5319 - accuracy: 0.7667\n",
      "Epoch 22/100\n",
      "24/24 [==============================] - 0s 488us/step - loss: 0.5281 - accuracy: 0.7500\n",
      "Epoch 23/100\n",
      "24/24 [==============================] - 0s 527us/step - loss: 0.5219 - accuracy: 0.8833\n",
      "Epoch 24/100\n",
      "24/24 [==============================] - 0s 507us/step - loss: 0.5172 - accuracy: 0.8833\n",
      "Epoch 25/100\n",
      "24/24 [==============================] - 0s 504us/step - loss: 0.5124 - accuracy: 0.8750\n",
      "Epoch 26/100\n",
      "24/24 [==============================] - 0s 486us/step - loss: 0.5102 - accuracy: 0.9417\n",
      "Epoch 27/100\n",
      "24/24 [==============================] - 0s 502us/step - loss: 0.5032 - accuracy: 0.8833\n",
      "Epoch 28/100\n",
      "24/24 [==============================] - 0s 496us/step - loss: 0.4993 - accuracy: 0.7667\n",
      "Epoch 29/100\n",
      "24/24 [==============================] - 0s 497us/step - loss: 0.4929 - accuracy: 0.8417\n",
      "Epoch 30/100\n",
      "24/24 [==============================] - 0s 512us/step - loss: 0.4893 - accuracy: 0.9250\n",
      "Epoch 31/100\n",
      "24/24 [==============================] - 0s 496us/step - loss: 0.4865 - accuracy: 0.8583\n",
      "Epoch 32/100\n",
      "24/24 [==============================] - 0s 516us/step - loss: 0.4801 - accuracy: 0.8917\n",
      "Epoch 33/100\n",
      "24/24 [==============================] - 0s 514us/step - loss: 0.4766 - accuracy: 0.9083\n",
      "Epoch 34/100\n",
      "24/24 [==============================] - 0s 509us/step - loss: 0.4711 - accuracy: 0.9500\n",
      "Epoch 35/100\n",
      "24/24 [==============================] - 0s 490us/step - loss: 0.4671 - accuracy: 0.9333\n",
      "Epoch 36/100\n",
      "24/24 [==============================] - 0s 496us/step - loss: 0.4623 - accuracy: 0.9000\n",
      "Epoch 37/100\n",
      "24/24 [==============================] - 0s 512us/step - loss: 0.4585 - accuracy: 0.9500\n",
      "Epoch 38/100\n",
      "24/24 [==============================] - 0s 487us/step - loss: 0.4554 - accuracy: 0.9500\n",
      "Epoch 39/100\n",
      "24/24 [==============================] - 0s 496us/step - loss: 0.4522 - accuracy: 0.9333\n",
      "Epoch 40/100\n",
      "24/24 [==============================] - 0s 505us/step - loss: 0.4469 - accuracy: 0.9500\n",
      "Epoch 41/100\n",
      "24/24 [==============================] - 0s 507us/step - loss: 0.4424 - accuracy: 0.9500\n",
      "Epoch 42/100\n",
      "24/24 [==============================] - 0s 484us/step - loss: 0.4397 - accuracy: 0.9583\n",
      "Epoch 43/100\n",
      "24/24 [==============================] - 0s 505us/step - loss: 0.4357 - accuracy: 0.9250\n",
      "Epoch 44/100\n",
      "24/24 [==============================] - 0s 546us/step - loss: 0.4306 - accuracy: 0.9417\n",
      "Epoch 45/100\n",
      "24/24 [==============================] - 0s 500us/step - loss: 0.4286 - accuracy: 0.9833\n",
      "Epoch 46/100\n",
      "24/24 [==============================] - 0s 511us/step - loss: 0.4260 - accuracy: 0.9250\n",
      "Epoch 47/100\n",
      "24/24 [==============================] - 0s 507us/step - loss: 0.4190 - accuracy: 0.9333\n",
      "Epoch 48/100\n",
      "24/24 [==============================] - 0s 501us/step - loss: 0.4176 - accuracy: 0.9417\n",
      "Epoch 49/100\n",
      "24/24 [==============================] - 0s 503us/step - loss: 0.4158 - accuracy: 0.9667\n",
      "Epoch 50/100\n",
      "24/24 [==============================] - 0s 498us/step - loss: 0.4083 - accuracy: 0.9667\n",
      "Epoch 51/100\n",
      "24/24 [==============================] - 0s 495us/step - loss: 0.4053 - accuracy: 0.9500\n",
      "Epoch 52/100\n",
      "24/24 [==============================] - 0s 510us/step - loss: 0.4057 - accuracy: 0.9667\n",
      "Epoch 53/100\n",
      "24/24 [==============================] - 0s 496us/step - loss: 0.3990 - accuracy: 0.9583\n",
      "Epoch 54/100\n",
      "24/24 [==============================] - 0s 490us/step - loss: 0.3981 - accuracy: 0.9333\n",
      "Epoch 55/100\n",
      "24/24 [==============================] - 0s 562us/step - loss: 0.3906 - accuracy: 0.9667\n",
      "Epoch 56/100\n",
      "24/24 [==============================] - 0s 499us/step - loss: 0.3882 - accuracy: 0.9750\n",
      "Epoch 57/100\n",
      "24/24 [==============================] - 0s 500us/step - loss: 0.3834 - accuracy: 0.9667\n",
      "Epoch 58/100\n",
      "24/24 [==============================] - 0s 506us/step - loss: 0.3836 - accuracy: 0.9583\n",
      "Epoch 59/100\n",
      "24/24 [==============================] - 0s 491us/step - loss: 0.3752 - accuracy: 0.9667\n",
      "Epoch 60/100\n",
      "24/24 [==============================] - 0s 657us/step - loss: 0.3734 - accuracy: 0.9500\n",
      "Epoch 61/100\n",
      "24/24 [==============================] - 0s 796us/step - loss: 0.3686 - accuracy: 0.9667\n",
      "Epoch 62/100\n",
      "24/24 [==============================] - 0s 602us/step - loss: 0.3654 - accuracy: 0.9667\n",
      "Epoch 63/100\n",
      "24/24 [==============================] - 0s 486us/step - loss: 0.3627 - accuracy: 0.9750\n",
      "Epoch 64/100\n",
      "24/24 [==============================] - 0s 498us/step - loss: 0.3597 - accuracy: 0.9583\n",
      "Epoch 65/100\n",
      "24/24 [==============================] - 0s 485us/step - loss: 0.3579 - accuracy: 0.9583\n",
      "Epoch 66/100\n",
      "24/24 [==============================] - 0s 484us/step - loss: 0.3518 - accuracy: 0.9667\n",
      "Epoch 67/100\n",
      "24/24 [==============================] - 0s 491us/step - loss: 0.3460 - accuracy: 0.9750\n",
      "Epoch 68/100\n",
      "24/24 [==============================] - 0s 479us/step - loss: 0.3440 - accuracy: 0.9667\n",
      "Epoch 69/100\n",
      "24/24 [==============================] - 0s 512us/step - loss: 0.3391 - accuracy: 0.9750\n",
      "Epoch 70/100\n",
      "24/24 [==============================] - 0s 492us/step - loss: 0.3352 - accuracy: 0.9667\n",
      "Epoch 71/100\n",
      "24/24 [==============================] - 0s 486us/step - loss: 0.3315 - accuracy: 0.9667\n",
      "Epoch 72/100\n",
      "24/24 [==============================] - 0s 468us/step - loss: 0.3282 - accuracy: 0.9667\n",
      "Epoch 73/100\n",
      "24/24 [==============================] - 0s 492us/step - loss: 0.3269 - accuracy: 0.9667\n",
      "Epoch 74/100\n",
      "24/24 [==============================] - 0s 496us/step - loss: 0.3279 - accuracy: 0.9833\n",
      "Epoch 75/100\n",
      "24/24 [==============================] - 0s 479us/step - loss: 0.3174 - accuracy: 0.9750\n",
      "Epoch 76/100\n",
      "24/24 [==============================] - 0s 486us/step - loss: 0.3166 - accuracy: 0.9583\n",
      "Epoch 77/100\n",
      "24/24 [==============================] - 0s 480us/step - loss: 0.3119 - accuracy: 0.9667\n",
      "Epoch 78/100\n",
      "24/24 [==============================] - 0s 471us/step - loss: 0.3081 - accuracy: 0.9750\n",
      "Epoch 79/100\n",
      "24/24 [==============================] - 0s 472us/step - loss: 0.3056 - accuracy: 0.9667\n",
      "Epoch 80/100\n",
      "24/24 [==============================] - 0s 483us/step - loss: 0.3035 - accuracy: 0.9667\n",
      "Epoch 81/100\n",
      "24/24 [==============================] - 0s 475us/step - loss: 0.2976 - accuracy: 0.9667\n",
      "Epoch 82/100\n",
      "24/24 [==============================] - 0s 485us/step - loss: 0.2948 - accuracy: 0.9750\n",
      "Epoch 83/100\n",
      "24/24 [==============================] - 0s 493us/step - loss: 0.2933 - accuracy: 0.9750\n",
      "Epoch 84/100\n",
      "24/24 [==============================] - 0s 480us/step - loss: 0.2887 - accuracy: 0.9750\n",
      "Epoch 85/100\n",
      "24/24 [==============================] - 0s 483us/step - loss: 0.2885 - accuracy: 0.9750\n",
      "Epoch 86/100\n",
      "24/24 [==============================] - 0s 473us/step - loss: 0.2833 - accuracy: 0.9750\n",
      "Epoch 87/100\n",
      "24/24 [==============================] - 0s 490us/step - loss: 0.2806 - accuracy: 0.9750\n",
      "Epoch 88/100\n",
      "24/24 [==============================] - 0s 475us/step - loss: 0.2764 - accuracy: 0.9750\n",
      "Epoch 89/100\n",
      "24/24 [==============================] - 0s 484us/step - loss: 0.2741 - accuracy: 0.9750\n",
      "Epoch 90/100\n",
      "24/24 [==============================] - 0s 474us/step - loss: 0.2735 - accuracy: 0.9667\n",
      "Epoch 91/100\n",
      "24/24 [==============================] - 0s 499us/step - loss: 0.2677 - accuracy: 0.9750\n",
      "Epoch 92/100\n",
      "24/24 [==============================] - 0s 491us/step - loss: 0.2695 - accuracy: 0.9750\n",
      "Epoch 93/100\n",
      "24/24 [==============================] - 0s 481us/step - loss: 0.2622 - accuracy: 0.9750\n",
      "Epoch 94/100\n",
      "24/24 [==============================] - 0s 491us/step - loss: 0.2589 - accuracy: 0.9667\n",
      "Epoch 95/100\n",
      "24/24 [==============================] - 0s 484us/step - loss: 0.2568 - accuracy: 0.9750\n",
      "Epoch 96/100\n",
      "24/24 [==============================] - 0s 482us/step - loss: 0.2538 - accuracy: 0.9667\n",
      "Epoch 97/100\n",
      "24/24 [==============================] - 0s 639us/step - loss: 0.2509 - accuracy: 0.9750\n",
      "Epoch 98/100\n",
      "24/24 [==============================] - 0s 881us/step - loss: 0.2486 - accuracy: 0.9750\n",
      "Epoch 99/100\n",
      "24/24 [==============================] - 0s 766us/step - loss: 0.2462 - accuracy: 0.9750\n",
      "Epoch 100/100\n",
      "24/24 [==============================] - 0s 506us/step - loss: 0.2448 - accuracy: 0.9750\n",
      "1/1 [==============================] - 0s 96ms/step - loss: 0.2356 - accuracy: 0.9667\n",
      "Test Loss: 0.2355806827545166\n",
      "Test Accuracy: 0.9666666388511658\n"
     ]
    }
   ],
   "source": [
    "import numpy as np\n",
    "import tensorflow as tf\n",
    "from sklearn.datasets import load_iris\n",
    "from sklearn.model_selection import train_test_split\n",
    "from sklearn.preprocessing import OneHotEncoder\n",
    "\n",
    "# Load Iris dataset\n",
    "iris = load_iris()\n",
    "X, y = iris.data, iris.target\n",
    "\n",
    "# Split dataset into training and testing sets\n",
    "X_train, X_test, y_train, y_test = train_test_split(X, y, test_size=0.2, random_state=42)\n",
    "\n",
    "# One-hot encode the target variable\n",
    "y_train = tf.keras.utils.to_categorical(y_train, num_classes=3)\n",
    "y_test = tf.keras.utils.to_categorical(y_test, num_classes=3)\n",
    "\n",
    "# Define neural network architecture\n",
    "model = tf.keras.models.Sequential([\n",
    "    tf.keras.layers.Dense(10, activation='relu', input_shape=(4,)),\n",
    "    tf.keras.layers.Dense(3, activation='softmax')\n",
    "])\n",
    "\n",
    "# Compile the model\n",
    "model.compile(optimizer='adam',\n",
    "              loss='categorical_crossentropy',\n",
    "              metrics=['accuracy'])\n",
    "\n",
    "# Train the model\n",
    "model.fit(X_train, y_train, epochs=100, batch_size=5, verbose=1)\n",
    "\n",
    "# Evaluate the model\n",
    "loss, accuracy = model.evaluate(X_test, y_test)\n",
    "print(\"Test Loss:\", loss)\n",
    "print(\"Test Accuracy:\", accuracy)\n"
   ]
  },
  {
   "cell_type": "code",
   "execution_count": 31,
   "id": "872b5c72-7e0d-4991-80b5-64d689761692",
   "metadata": {},
   "outputs": [
    {
     "name": "stdout",
     "output_type": "stream",
     "text": [
      "1/1 [==============================] - 0s 17ms/step\n"
     ]
    },
    {
     "ename": "TypeError",
     "evalue": "'str' object is not callable",
     "output_type": "error",
     "traceback": [
      "\u001b[0;31m---------------------------------------------------------------------------\u001b[0m",
      "\u001b[0;31mTypeError\u001b[0m                                 Traceback (most recent call last)",
      "Cell \u001b[0;32mIn[31], line 12\u001b[0m\n\u001b[1;32m     10\u001b[0m plt\u001b[38;5;241m.\u001b[39mfigure(figsize\u001b[38;5;241m=\u001b[39m(\u001b[38;5;241m8\u001b[39m, \u001b[38;5;241m6\u001b[39m))\n\u001b[1;32m     11\u001b[0m sns\u001b[38;5;241m.\u001b[39mheatmap(cm, annot\u001b[38;5;241m=\u001b[39m\u001b[38;5;28;01mTrue\u001b[39;00m, fmt\u001b[38;5;241m=\u001b[39m\u001b[38;5;124m'\u001b[39m\u001b[38;5;124md\u001b[39m\u001b[38;5;124m'\u001b[39m, cmap\u001b[38;5;241m=\u001b[39m\u001b[38;5;124m'\u001b[39m\u001b[38;5;124mBlues\u001b[39m\u001b[38;5;124m'\u001b[39m, xticklabels\u001b[38;5;241m=\u001b[39miris\u001b[38;5;241m.\u001b[39mtarget_names, yticklabels\u001b[38;5;241m=\u001b[39miris\u001b[38;5;241m.\u001b[39mtarget_names)\n\u001b[0;32m---> 12\u001b[0m plt\u001b[38;5;241m.\u001b[39mxlabel(\u001b[38;5;124m'\u001b[39m\u001b[38;5;124mPredicted\u001b[39m\u001b[38;5;124m'\u001b[39m)\n\u001b[1;32m     13\u001b[0m plt\u001b[38;5;241m.\u001b[39mylabel(\u001b[38;5;124m'\u001b[39m\u001b[38;5;124mTrue\u001b[39m\u001b[38;5;124m'\u001b[39m)\n\u001b[1;32m     14\u001b[0m plt\u001b[38;5;241m.\u001b[39mtitle(\u001b[38;5;124m'\u001b[39m\u001b[38;5;124mConfusion Matrix\u001b[39m\u001b[38;5;124m'\u001b[39m)\n",
      "\u001b[0;31mTypeError\u001b[0m: 'str' object is not callable"
     ]
    },
    {
     "data": {
      "image/png": "[encoded data removed]",
      "text/plain": [
       "<Figure size 800x600 with 2 Axes>"
      ]
     },
     "metadata": {},
     "output_type": "display_data"
    }
   ],
   "source": [
    "import seaborn as sns\n",
    "\n",
    "# Get predictions from the model\n",
    "y_pred = np.argmax(model.predict(X_test), axis=-1)\n",
    "\n",
    "# Calculate confusion matrix\n",
    "cm = confusion_matrix(np.argmax(y_test, axis=1), y_pred)\n",
    "\n",
    "# Plot confusion matrix\n",
    "plt.figure(figsize=(8, 6))\n",
    "sns.heatmap(cm, annot=True, fmt='d', cmap='Blues', xticklabels=iris.target_names, yticklabels=iris.target_names)\n",
    "plt.xlabel('Predicted')\n",
    "plt.ylabel('True')\n",
    "plt.title('Confusion Matrix')\n",
    "plt.show()"
   ]
  },
  {
   "cell_type": "code",
   "execution_count": 32,
   "id": "c17114ba-1f40-4727-914e-ce133176c1e5",
   "metadata": {},
   "outputs": [
    {
     "data": {
      "text/plain": [
       "array([[10,  0,  0],\n",
       "       [ 0,  8,  1],\n",
       "       [ 0,  0, 11]])"
      ]
     },
     "execution_count": 32,
     "metadata": {},
     "output_type": "execute_result"
    }
   ],
   "source": [
    "cm"
   ]
  },
  {
   "cell_type": "code",
   "execution_count": null,
   "id": "8805a9bd-7790-4c15-a418-2ecb2696859d",
   "metadata": {},
   "outputs": [],
   "source": []
  }
 ],
 "metadata": {
  "kernelspec": {
   "display_name": "Python 3 (ipykernel)",
   "language": "python",
   "name": "python3"
  },
  "language_info": {
   "codemirror_mode": {
    "name": "ipython",
    "version": 3
   },
   "file_extension": ".py",
   "mimetype": "text/x-python",
   "name": "python",
   "nbconvert_exporter": "python",
   "pygments_lexer": "ipython3",
   "version": "3.11.5"
  }
 },
 "nbformat": 4,
 "nbformat_minor": 5
}
