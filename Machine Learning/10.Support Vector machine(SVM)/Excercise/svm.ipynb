{
 "cells": [
  {
   "cell_type": "code",
   "execution_count": 1,
   "id": "40699da7",
   "metadata": {},
   "outputs": [],
   "source": [
    "import pandas as pd\n",
    "from sklearn.datasets import load_digits"
   ]
  },
  {
   "cell_type": "code",
   "execution_count": 2,
   "id": "f988ef41",
   "metadata": {},
   "outputs": [
    {
     "data": {
      "text/plain": [
       "['DESCR', 'data', 'feature_names', 'frame', 'images', 'target', 'target_names']"
      ]
     },
     "execution_count": 2,
     "metadata": {},
     "output_type": "execute_result"
    }
   ],
   "source": [
    "digits= load_digits()\n",
    "dir(digits)"
   ]
  },
  {
   "cell_type": "code",
   "execution_count": 9,
   "id": "bb7cf6d4",
   "metadata": {},
   "outputs": [
    {
     "data": {
      "text/plain": [
       "array([[ 0.,  0.,  5., ...,  0.,  0.,  0.],\n",
       "       [ 0.,  0.,  0., ..., 10.,  0.,  0.],\n",
       "       [ 0.,  0.,  0., ..., 16.,  9.,  0.],\n",
       "       ...,\n",
       "       [ 0.,  0.,  1., ...,  6.,  0.,  0.],\n",
       "       [ 0.,  0.,  2., ..., 12.,  0.,  0.],\n",
       "       [ 0.,  0., 10., ..., 12.,  1.,  0.]])"
      ]
     },
     "execution_count": 9,
     "metadata": {},
     "output_type": "execute_result"
    }
   ],
   "source": [
    "X= digits.data\n",
    "y= digits.target\n",
    "X"
   ]
  },
  {
   "cell_type": "code",
   "execution_count": 10,
   "id": "6dc63230",
   "metadata": {},
   "outputs": [
    {
     "data": {
      "text/plain": [
       "array([0, 1, 2, ..., 8, 9, 8])"
      ]
     },
     "execution_count": 10,
     "metadata": {},
     "output_type": "execute_result"
    }
   ],
   "source": [
    "y"
   ]
  },
  {
   "cell_type": "code",
   "execution_count": 7,
   "id": "062d2083",
   "metadata": {},
   "outputs": [],
   "source": [
    "from sklearn.model_selection import train_test_split"
   ]
  },
  {
   "cell_type": "code",
   "execution_count": 8,
   "id": "7a54819a",
   "metadata": {},
   "outputs": [],
   "source": [
    "X_train,X_test,y_train,y_test= train_test_split(X,y,test_size=0.3)"
   ]
  },
  {
   "cell_type": "code",
   "execution_count": 12,
   "id": "4e53dcff",
   "metadata": {},
   "outputs": [
    {
     "data": {
      "text/html": [
       "<style>#sk-container-id-1 {color: black;background-color: white;}#sk-container-id-1 pre{padding: 0;}#sk-container-id-1 div.sk-toggleable {background-color: white;}#sk-container-id-1 label.sk-toggleable__label {cursor: pointer;display: block;width: 100%;margin-bottom: 0;padding: 0.3em;box-sizing: border-box;text-align: center;}#sk-container-id-1 label.sk-toggleable__label-arrow:before {content: \"▸\";float: left;margin-right: 0.25em;color: #696969;}#sk-container-id-1 label.sk-toggleable__label-arrow:hover:before {color: black;}#sk-container-id-1 div.sk-estimator:hover label.sk-toggleable__label-arrow:before {color: black;}#sk-container-id-1 div.sk-toggleable__content {max-height: 0;max-width: 0;overflow: hidden;text-align: left;background-color: #f0f8ff;}#sk-container-id-1 div.sk-toggleable__content pre {margin: 0.2em;color: black;border-radius: 0.25em;background-color: #f0f8ff;}#sk-container-id-1 input.sk-toggleable__control:checked~div.sk-toggleable__content {max-height: 200px;max-width: 100%;overflow: auto;}#sk-container-id-1 input.sk-toggleable__control:checked~label.sk-toggleable__label-arrow:before {content: \"▾\";}#sk-container-id-1 div.sk-estimator input.sk-toggleable__control:checked~label.sk-toggleable__label {background-color: #d4ebff;}#sk-container-id-1 div.sk-label input.sk-toggleable__control:checked~label.sk-toggleable__label {background-color: #d4ebff;}#sk-container-id-1 input.sk-hidden--visually {border: 0;clip: rect(1px 1px 1px 1px);clip: rect(1px, 1px, 1px, 1px);height: 1px;margin: -1px;overflow: hidden;padding: 0;position: absolute;width: 1px;}#sk-container-id-1 div.sk-estimator {font-family: monospace;background-color: #f0f8ff;border: 1px dotted black;border-radius: 0.25em;box-sizing: border-box;margin-bottom: 0.5em;}#sk-container-id-1 div.sk-estimator:hover {background-color: #d4ebff;}#sk-container-id-1 div.sk-parallel-item::after {content: \"\";width: 100%;border-bottom: 1px solid gray;flex-grow: 1;}#sk-container-id-1 div.sk-label:hover label.sk-toggleable__label {background-color: #d4ebff;}#sk-container-id-1 div.sk-serial::before {content: \"\";position: absolute;border-left: 1px solid gray;box-sizing: border-box;top: 0;bottom: 0;left: 50%;z-index: 0;}#sk-container-id-1 div.sk-serial {display: flex;flex-direction: column;align-items: center;background-color: white;padding-right: 0.2em;padding-left: 0.2em;position: relative;}#sk-container-id-1 div.sk-item {position: relative;z-index: 1;}#sk-container-id-1 div.sk-parallel {display: flex;align-items: stretch;justify-content: center;background-color: white;position: relative;}#sk-container-id-1 div.sk-item::before, #sk-container-id-1 div.sk-parallel-item::before {content: \"\";position: absolute;border-left: 1px solid gray;box-sizing: border-box;top: 0;bottom: 0;left: 50%;z-index: -1;}#sk-container-id-1 div.sk-parallel-item {display: flex;flex-direction: column;z-index: 1;position: relative;background-color: white;}#sk-container-id-1 div.sk-parallel-item:first-child::after {align-self: flex-end;width: 50%;}#sk-container-id-1 div.sk-parallel-item:last-child::after {align-self: flex-start;width: 50%;}#sk-container-id-1 div.sk-parallel-item:only-child::after {width: 0;}#sk-container-id-1 div.sk-dashed-wrapped {border: 1px dashed gray;margin: 0 0.4em 0.5em 0.4em;box-sizing: border-box;padding-bottom: 0.4em;background-color: white;}#sk-container-id-1 div.sk-label label {font-family: monospace;font-weight: bold;display: inline-block;line-height: 1.2em;}#sk-container-id-1 div.sk-label-container {text-align: center;}#sk-container-id-1 div.sk-container {/* jupyter's `normalize.less` sets `[hidden] { display: none; }` but bootstrap.min.css set `[hidden] { display: none !important; }` so we also need the `!important` here to be able to override the default hidden behavior on the sphinx rendered scikit-learn.org. See: https://github.com/scikit-learn/scikit-learn/issues/21755 */display: inline-block !important;position: relative;}#sk-container-id-1 div.sk-text-repr-fallback {display: none;}</style><div id=\"sk-container-id-1\" class=\"sk-top-container\"><div class=\"sk-text-repr-fallback\"><pre>SVC()</pre><b>In a Jupyter environment, please rerun this cell to show the HTML representation or trust the notebook. <br />On GitHub, the HTML representation is unable to render, please try loading this page with nbviewer.org.</b></div><div class=\"sk-container\" hidden><div class=\"sk-item\"><div class=\"sk-estimator sk-toggleable\"><input class=\"sk-toggleable__control sk-hidden--visually\" id=\"sk-estimator-id-1\" type=\"checkbox\" checked><label for=\"sk-estimator-id-1\" class=\"sk-toggleable__label sk-toggleable__label-arrow\">SVC</label><div class=\"sk-toggleable__content\"><pre>SVC()</pre></div></div></div></div></div>"
      ],
      "text/plain": [
       "SVC()"
      ]
     },
     "execution_count": 12,
     "metadata": {},
     "output_type": "execute_result"
    }
   ],
   "source": [
    "from sklearn.svm import SVC\n",
    "model= SVC(kernel='rbf')\n",
    "model.fit(X_train,y_train)"
   ]
  },
  {
   "cell_type": "code",
   "execution_count": 13,
   "id": "22d3eb0b",
   "metadata": {},
   "outputs": [
    {
     "data": {
      "text/plain": [
       "array([7, 9, 7, 9, 1, 3, 9, 5, 8, 2, 9, 7, 4, 0, 6, 4, 9, 3, 8, 2, 4, 2,\n",
       "       8, 6, 8, 0, 3, 9, 4, 3, 8, 3, 3, 7, 0, 8, 1, 4, 5, 0, 2, 8, 5, 0,\n",
       "       0, 0, 0, 6, 3, 1, 1, 4, 5, 5, 4, 8, 8, 7, 9, 9, 0, 6, 4, 3, 1, 1,\n",
       "       2, 2, 7, 4, 6, 6, 2, 9, 5, 8, 0, 6, 8, 7, 2, 8, 0, 9, 0, 1, 8, 1,\n",
       "       2, 7, 1, 5, 8, 0, 4, 3, 2, 6, 2, 3, 8, 8, 0, 5, 9, 8, 2, 9, 0, 9,\n",
       "       5, 6, 7, 5, 0, 9, 5, 0, 9, 2, 7, 7, 6, 3, 8, 1, 0, 0, 2, 6, 7, 2,\n",
       "       0, 9, 8, 1, 4, 4, 9, 2, 8, 7, 7, 5, 0, 4, 7, 2, 9, 5, 4, 9, 8, 4,\n",
       "       9, 1, 1, 9, 6, 8, 9, 4, 0, 6, 7, 5, 7, 5, 1, 0, 3, 2, 6, 1, 2, 1,\n",
       "       7, 5, 3, 7, 9, 6, 5, 8, 7, 0, 5, 9, 1, 7, 7, 1, 3, 0, 3, 2, 3, 2,\n",
       "       2, 7, 8, 4, 6, 5, 5, 3, 4, 9, 8, 4, 8, 5, 5, 1, 7, 5, 9, 8, 8, 7,\n",
       "       5, 9, 8, 0, 4, 6, 8, 5, 9, 1, 2, 3, 4, 0, 7, 4, 2, 4, 9, 1, 3, 0,\n",
       "       9, 6, 6, 3, 4, 4, 0, 7, 7, 0, 4, 3, 0, 0, 3, 1, 0, 1, 1, 0, 1, 4,\n",
       "       5, 0, 8, 7, 7, 0, 9, 1, 6, 1, 1, 6, 2, 1, 1, 1, 2, 8, 9, 3, 8, 3,\n",
       "       0, 4, 5, 1, 7, 1, 7, 7, 1, 1, 7, 3, 1, 3, 0, 1, 4, 9, 9, 3, 3, 0,\n",
       "       4, 4, 6, 0, 6, 7, 0, 7, 8, 0, 1, 1, 5, 7, 9, 9, 5, 0, 0, 0, 1, 1,\n",
       "       1, 3, 7, 8, 9, 0, 0, 0, 9, 0, 4, 5, 2, 8, 3, 3, 9, 9, 4, 0, 4, 5,\n",
       "       9, 5, 4, 5, 1, 8, 1, 5, 1, 7, 2, 8, 9, 4, 4, 8, 5, 2, 1, 8, 8, 7,\n",
       "       6, 7, 7, 3, 9, 6, 5, 9, 1, 3, 3, 9, 6, 8, 3, 6, 7, 3, 9, 0, 6, 9,\n",
       "       9, 3, 9, 4, 7, 1, 7, 2, 4, 6, 0, 5, 6, 4, 2, 4, 6, 8, 9, 4, 6, 1,\n",
       "       7, 0, 7, 6, 4, 3, 3, 3, 6, 0, 9, 4, 3, 2, 7, 0, 2, 6, 3, 1, 9, 5,\n",
       "       2, 0, 2, 6, 4, 0, 6, 3, 2, 5, 2, 7, 2, 1, 9, 3, 1, 6, 3, 7, 5, 3,\n",
       "       2, 2, 6, 3, 0, 0, 5, 6, 6, 5, 8, 2, 0, 0, 1, 3, 3, 7, 2, 4, 7, 2,\n",
       "       2, 5, 9, 2, 2, 0, 2, 5, 0, 3, 8, 8, 0, 2, 4, 9, 6, 9, 1, 2, 3, 6,\n",
       "       1, 9, 2, 9, 5, 9, 4, 1, 9, 6, 8, 9, 4, 1, 1, 5, 4, 2, 1, 3, 6, 6,\n",
       "       6, 4, 4, 7, 8, 5, 6, 0, 9, 9, 2, 2])"
      ]
     },
     "execution_count": 13,
     "metadata": {},
     "output_type": "execute_result"
    }
   ],
   "source": [
    "model.predict(X_test)"
   ]
  },
  {
   "cell_type": "code",
   "execution_count": 14,
   "id": "04cdc60f",
   "metadata": {},
   "outputs": [
    {
     "data": {
      "text/plain": [
       "0.9777777777777777"
      ]
     },
     "execution_count": 14,
     "metadata": {},
     "output_type": "execute_result"
    }
   ],
   "source": [
    "model.score(X_test,y_test)"
   ]
  },
  {
   "cell_type": "code",
   "execution_count": 15,
   "id": "a2a156b6",
   "metadata": {},
   "outputs": [],
   "source": [
    "linear_model= SVC(kernel='linear')"
   ]
  },
  {
   "cell_type": "code",
   "execution_count": 16,
   "id": "d5c1c3a2",
   "metadata": {},
   "outputs": [
    {
     "data": {
      "text/html": [
       "<style>#sk-container-id-2 {color: black;background-color: white;}#sk-container-id-2 pre{padding: 0;}#sk-container-id-2 div.sk-toggleable {background-color: white;}#sk-container-id-2 label.sk-toggleable__label {cursor: pointer;display: block;width: 100%;margin-bottom: 0;padding: 0.3em;box-sizing: border-box;text-align: center;}#sk-container-id-2 label.sk-toggleable__label-arrow:before {content: \"▸\";float: left;margin-right: 0.25em;color: #696969;}#sk-container-id-2 label.sk-toggleable__label-arrow:hover:before {color: black;}#sk-container-id-2 div.sk-estimator:hover label.sk-toggleable__label-arrow:before {color: black;}#sk-container-id-2 div.sk-toggleable__content {max-height: 0;max-width: 0;overflow: hidden;text-align: left;background-color: #f0f8ff;}#sk-container-id-2 div.sk-toggleable__content pre {margin: 0.2em;color: black;border-radius: 0.25em;background-color: #f0f8ff;}#sk-container-id-2 input.sk-toggleable__control:checked~div.sk-toggleable__content {max-height: 200px;max-width: 100%;overflow: auto;}#sk-container-id-2 input.sk-toggleable__control:checked~label.sk-toggleable__label-arrow:before {content: \"▾\";}#sk-container-id-2 div.sk-estimator input.sk-toggleable__control:checked~label.sk-toggleable__label {background-color: #d4ebff;}#sk-container-id-2 div.sk-label input.sk-toggleable__control:checked~label.sk-toggleable__label {background-color: #d4ebff;}#sk-container-id-2 input.sk-hidden--visually {border: 0;clip: rect(1px 1px 1px 1px);clip: rect(1px, 1px, 1px, 1px);height: 1px;margin: -1px;overflow: hidden;padding: 0;position: absolute;width: 1px;}#sk-container-id-2 div.sk-estimator {font-family: monospace;background-color: #f0f8ff;border: 1px dotted black;border-radius: 0.25em;box-sizing: border-box;margin-bottom: 0.5em;}#sk-container-id-2 div.sk-estimator:hover {background-color: #d4ebff;}#sk-container-id-2 div.sk-parallel-item::after {content: \"\";width: 100%;border-bottom: 1px solid gray;flex-grow: 1;}#sk-container-id-2 div.sk-label:hover label.sk-toggleable__label {background-color: #d4ebff;}#sk-container-id-2 div.sk-serial::before {content: \"\";position: absolute;border-left: 1px solid gray;box-sizing: border-box;top: 0;bottom: 0;left: 50%;z-index: 0;}#sk-container-id-2 div.sk-serial {display: flex;flex-direction: column;align-items: center;background-color: white;padding-right: 0.2em;padding-left: 0.2em;position: relative;}#sk-container-id-2 div.sk-item {position: relative;z-index: 1;}#sk-container-id-2 div.sk-parallel {display: flex;align-items: stretch;justify-content: center;background-color: white;position: relative;}#sk-container-id-2 div.sk-item::before, #sk-container-id-2 div.sk-parallel-item::before {content: \"\";position: absolute;border-left: 1px solid gray;box-sizing: border-box;top: 0;bottom: 0;left: 50%;z-index: -1;}#sk-container-id-2 div.sk-parallel-item {display: flex;flex-direction: column;z-index: 1;position: relative;background-color: white;}#sk-container-id-2 div.sk-parallel-item:first-child::after {align-self: flex-end;width: 50%;}#sk-container-id-2 div.sk-parallel-item:last-child::after {align-self: flex-start;width: 50%;}#sk-container-id-2 div.sk-parallel-item:only-child::after {width: 0;}#sk-container-id-2 div.sk-dashed-wrapped {border: 1px dashed gray;margin: 0 0.4em 0.5em 0.4em;box-sizing: border-box;padding-bottom: 0.4em;background-color: white;}#sk-container-id-2 div.sk-label label {font-family: monospace;font-weight: bold;display: inline-block;line-height: 1.2em;}#sk-container-id-2 div.sk-label-container {text-align: center;}#sk-container-id-2 div.sk-container {/* jupyter's `normalize.less` sets `[hidden] { display: none; }` but bootstrap.min.css set `[hidden] { display: none !important; }` so we also need the `!important` here to be able to override the default hidden behavior on the sphinx rendered scikit-learn.org. See: https://github.com/scikit-learn/scikit-learn/issues/21755 */display: inline-block !important;position: relative;}#sk-container-id-2 div.sk-text-repr-fallback {display: none;}</style><div id=\"sk-container-id-2\" class=\"sk-top-container\"><div class=\"sk-text-repr-fallback\"><pre>SVC(kernel=&#x27;linear&#x27;)</pre><b>In a Jupyter environment, please rerun this cell to show the HTML representation or trust the notebook. <br />On GitHub, the HTML representation is unable to render, please try loading this page with nbviewer.org.</b></div><div class=\"sk-container\" hidden><div class=\"sk-item\"><div class=\"sk-estimator sk-toggleable\"><input class=\"sk-toggleable__control sk-hidden--visually\" id=\"sk-estimator-id-2\" type=\"checkbox\" checked><label for=\"sk-estimator-id-2\" class=\"sk-toggleable__label sk-toggleable__label-arrow\">SVC</label><div class=\"sk-toggleable__content\"><pre>SVC(kernel=&#x27;linear&#x27;)</pre></div></div></div></div></div>"
      ],
      "text/plain": [
       "SVC(kernel='linear')"
      ]
     },
     "execution_count": 16,
     "metadata": {},
     "output_type": "execute_result"
    }
   ],
   "source": [
    "linear_model.fit(X_train,y_train)"
   ]
  },
  {
   "cell_type": "code",
   "execution_count": 17,
   "id": "f7688915",
   "metadata": {},
   "outputs": [
    {
     "data": {
      "text/plain": [
       "array([7, 9, 7, 9, 1, 3, 9, 5, 8, 2, 9, 7, 4, 0, 6, 4, 5, 3, 8, 2, 4, 2,\n",
       "       8, 6, 5, 0, 3, 9, 4, 3, 8, 3, 3, 7, 0, 8, 1, 4, 5, 0, 2, 8, 5, 0,\n",
       "       0, 0, 0, 6, 8, 1, 1, 4, 5, 5, 4, 8, 8, 7, 9, 9, 0, 6, 4, 3, 1, 1,\n",
       "       2, 2, 7, 4, 6, 6, 2, 9, 5, 8, 0, 6, 8, 7, 2, 8, 0, 9, 0, 1, 8, 1,\n",
       "       2, 7, 1, 5, 5, 0, 4, 3, 2, 6, 2, 3, 8, 8, 0, 5, 9, 8, 2, 9, 0, 9,\n",
       "       5, 6, 7, 5, 0, 9, 5, 0, 9, 2, 8, 7, 6, 3, 8, 1, 0, 0, 2, 6, 7, 2,\n",
       "       0, 9, 8, 1, 4, 4, 9, 2, 8, 7, 7, 5, 0, 4, 7, 2, 9, 5, 4, 9, 8, 4,\n",
       "       9, 1, 1, 9, 6, 8, 9, 4, 0, 6, 7, 5, 7, 5, 1, 0, 3, 2, 6, 1, 2, 1,\n",
       "       7, 5, 3, 7, 9, 6, 5, 8, 7, 0, 5, 9, 1, 7, 7, 1, 3, 0, 3, 2, 3, 2,\n",
       "       2, 7, 8, 4, 6, 5, 5, 3, 4, 9, 8, 4, 8, 5, 5, 1, 7, 5, 9, 1, 8, 7,\n",
       "       5, 9, 8, 0, 4, 6, 8, 5, 9, 1, 2, 3, 4, 0, 7, 4, 2, 4, 9, 1, 3, 0,\n",
       "       9, 6, 6, 3, 4, 4, 0, 7, 7, 0, 4, 3, 0, 0, 3, 1, 0, 1, 1, 0, 1, 4,\n",
       "       5, 0, 8, 7, 7, 0, 9, 1, 6, 1, 1, 6, 2, 1, 1, 1, 2, 8, 9, 3, 4, 3,\n",
       "       0, 4, 5, 1, 7, 1, 7, 7, 1, 1, 7, 3, 1, 5, 0, 1, 4, 9, 9, 3, 3, 0,\n",
       "       4, 4, 6, 0, 6, 7, 0, 7, 4, 0, 8, 1, 5, 7, 9, 9, 5, 0, 0, 0, 1, 1,\n",
       "       1, 3, 7, 8, 9, 0, 0, 0, 9, 0, 4, 5, 2, 8, 3, 3, 9, 9, 4, 0, 4, 5,\n",
       "       9, 5, 4, 5, 1, 8, 1, 5, 1, 7, 2, 8, 9, 4, 4, 8, 5, 2, 1, 8, 1, 7,\n",
       "       6, 7, 7, 3, 9, 6, 5, 9, 1, 3, 3, 9, 6, 8, 3, 6, 7, 3, 9, 0, 6, 9,\n",
       "       9, 3, 9, 4, 7, 1, 7, 2, 4, 6, 0, 5, 6, 4, 2, 4, 6, 8, 9, 4, 6, 1,\n",
       "       7, 0, 7, 6, 4, 3, 3, 3, 5, 0, 9, 4, 3, 2, 7, 0, 2, 6, 3, 1, 9, 5,\n",
       "       2, 0, 2, 6, 4, 0, 6, 3, 2, 5, 2, 7, 2, 1, 9, 3, 1, 6, 3, 7, 5, 3,\n",
       "       2, 2, 6, 3, 0, 0, 5, 6, 6, 5, 8, 2, 0, 0, 1, 3, 3, 7, 2, 4, 7, 2,\n",
       "       2, 5, 9, 2, 2, 0, 2, 5, 0, 3, 8, 8, 0, 2, 4, 9, 6, 9, 1, 2, 3, 6,\n",
       "       1, 9, 2, 9, 5, 9, 4, 1, 9, 6, 8, 9, 4, 1, 1, 5, 4, 2, 1, 3, 6, 6,\n",
       "       6, 4, 4, 7, 8, 5, 6, 0, 9, 9, 2, 2])"
      ]
     },
     "execution_count": 17,
     "metadata": {},
     "output_type": "execute_result"
    }
   ],
   "source": [
    "linear_model.predict(X_test)"
   ]
  },
  {
   "cell_type": "code",
   "execution_count": 18,
   "id": "95dd1dfc",
   "metadata": {},
   "outputs": [
    {
     "data": {
      "text/plain": [
       "0.9666666666666667"
      ]
     },
     "execution_count": 18,
     "metadata": {},
     "output_type": "execute_result"
    }
   ],
   "source": [
    "linear_model.score(X_test,y_test)"
   ]
  },
  {
   "cell_type": "code",
   "execution_count": null,
   "id": "3765723d",
   "metadata": {},
   "outputs": [],
   "source": []
  }
 ],
 "metadata": {
  "kernelspec": {
   "display_name": "Python 3 (ipykernel)",
   "language": "python",
   "name": "python3"
  },
  "language_info": {
   "codemirror_mode": {
    "name": "ipython",
    "version": 3
   },
   "file_extension": ".py",
   "mimetype": "text/x-python",
   "name": "python",
   "nbconvert_exporter": "python",
   "pygments_lexer": "ipython3",
   "version": "3.10.9"
  }
 },
 "nbformat": 4,
 "nbformat_minor": 5
}
