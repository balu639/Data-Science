{
 "cells": [
  {
   "cell_type": "code",
   "execution_count": null,
   "id": "860f5284",
   "metadata": {},
   "outputs": [],
   "source": [
    "import numpy as np\n",
    "import cv2\n",
    "import os\n",
    "\n",
    "os.mkdir('train_label_images')\n",
    "\n",
    "dir_path = 'train_labels'\n",
    "image_dir_path = 'train_label_images'\n",
    "for file in os.listdir(dir_path):\n",
    "  filename = os.path.splitext(file)[0]\n",
    "  img_array = np.load(os.path.join(dir_path, file))\n",
    "  cv2.imwrite(os.path.join(image_dir_path, filename + '.JPG'), img_array)\n"
   ]
  },
  {
   "cell_type": "code",
   "execution_count": 1,
   "id": "7754e7c3",
   "metadata": {},
   "outputs": [],
   "source": [
    "import tensorflow as tf\n",
    "import os\n",
    "from skimage.io import imread, imshow\n",
    "from skimage.transform import resize\n",
    "import matplotlib.pyplot as plt\n",
    "import numpy as np\n",
    "import time\n",
    "import glob \n",
    "import random"
   ]
  },
  {
   "cell_type": "code",
   "execution_count": 2,
   "id": "318f797e",
   "metadata": {},
   "outputs": [],
   "source": [
    "import pandas as pd\n",
    "\n",
    "ids = pd.read_csv('train and test ids.csv')\n",
    "path = 'Images'\n",
    "img_list_X_train = []\n",
    "img_list_X_test = []\n",
    "for i in ids['train_ids']:\n",
    "    img_list_X_train.append(os.path.join(path,'crop_row_' + str(i).zfill(3) + '.jpg'))\n",
    "for i in ids['test_ids']:\n",
    "    if not np.isnan(i):\n",
    "        img_list_X_test.append(os.path.join(path,'crop_row_' + str(int(i)).zfill(3) + '.jpg'))"
   ]
  },
  {
   "cell_type": "code",
   "execution_count": 3,
   "id": "dcabd3b1",
   "metadata": {},
   "outputs": [],
   "source": [
    "img_width = 320\n",
    "img_height = 240\n",
    "img_channels = 3\n",
    "number_of_init_filters = 16"
   ]
  },
  {
   "cell_type": "code",
   "execution_count": 4,
   "id": "c74cf2a9",
   "metadata": {},
   "outputs": [],
   "source": [
    "X_train = np.zeros((len(img_list_X_train), img_height, img_width, img_channels), dtype=np.uint8)\n",
    "for i, img_path in enumerate(img_list_X_train):\n",
    "    # read image\n",
    "    img_train = imread(img_path)\n",
    "    img_train = resize(img_train, (img_height, img_width, img_channels), mode='constant', preserve_range='True')\n",
    "    X_train[i] = img_train"
   ]
  },
  {
   "cell_type": "code",
   "execution_count": 5,
   "id": "ae185f6b",
   "metadata": {},
   "outputs": [],
   "source": [
    "train_output_path1 = 'train_label_images'\n",
    "img_list_y_train = []\n",
    "for i in ids['train_ids']:\n",
    "      img_list_y_train.append(os.path.join(train_output_path1,'crop_row_' + str(i).zfill(3) + '.JPG'))\n",
    "y_train = np.zeros((len(img_list_y_train), img_height, img_width, 1), dtype=np.int32)\n",
    "for i, img_path in enumerate(img_list_y_train):\n",
    "    # read image\n",
    "    img_train = imread(img_path)\n",
    "    img_train = resize(img_train, (img_height, img_width, 1), mode='constant', preserve_range='True')\n",
    "    y_train[i] = img_train"
   ]
  },
  {
   "cell_type": "code",
   "execution_count": 6,
   "id": "b4c3dd7b",
   "metadata": {},
   "outputs": [],
   "source": [
    "X_test = np.zeros((len(img_list_X_test), img_height, img_width, img_channels), dtype=np.uint8)\n",
    "for i, img_path in enumerate(img_list_X_test):\n",
    "    # read image\n",
    "    img_test = imread(img_path)\n",
    "    img_test = resize(img_test, (img_height, img_width, img_channels), mode='constant', preserve_range='True')\n",
    "    X_test[i] = img_test"
   ]
  },
  {
   "cell_type": "code",
   "execution_count": 7,
   "id": "6bd11fdf",
   "metadata": {},
   "outputs": [
    {
     "name": "stderr",
     "output_type": "stream",
     "text": [
      "/Users/balarusum/opt/anaconda3/envs/tensor-env/lib/python3.10/site-packages/torchvision/io/image.py:13: UserWarning: Failed to load image Python extension: dlopen(/Users/balarusum/opt/anaconda3/envs/tensor-env/lib/python3.10/site-packages/torchvision/image.so, 0x0006): Symbol not found: __ZN2at4_ops19empty_memory_format4callEN3c108ArrayRefIxEENS2_8optionalINS2_10ScalarTypeEEENS5_INS2_6LayoutEEENS5_INS2_6DeviceEEENS5_IbEENS5_INS2_12MemoryFormatEEE\n",
      "  Referenced from: <F0D48035-EF9E-3141-9F63-566920E60D7C> /Users/balarusum/opt/anaconda3/envs/tensor-env/lib/python3.10/site-packages/torchvision/image.so\n",
      "  Expected in:     <572F00C8-615A-31F8-BC32-777C2024F746> /Users/balarusum/opt/anaconda3/envs/tensor-env/lib/python3.10/site-packages/torch/lib/libtorch_cpu.dylib\n",
      "  warn(f\"Failed to load image Python extension: {e}\")\n"
     ]
    }
   ],
   "source": [
    "import torch\n",
    "import torch.nn as nn\n",
    "import torch.optim as optim\n",
    "from torchvision.transforms import transforms\n",
    "from torch.utils.data import DataLoader, Dataset\n"
   ]
  },
  {
   "cell_type": "code",
   "execution_count": 8,
   "id": "ed1f90c5",
   "metadata": {},
   "outputs": [],
   "source": [
    "import tensorflow as tf\n",
    "from tensorflow.keras.models import Model\n",
    "from tensorflow.keras.layers import Input, Conv2D, MaxPooling2D, UpSampling2D, Concatenate\n",
    "\n",
    "def linknet(input_shape, num_classes):\n",
    "    inputs = Input(shape=input_shape)\n",
    "    \n",
    "    # Encoder\n",
    "    conv1 = Conv2D(64, (3, 3), activation='relu', padding='same')(inputs)\n",
    "    conv1 = Conv2D(64, (3, 3), activation='relu', padding='same')(conv1)\n",
    "    pool1 = MaxPooling2D((2, 2))(conv1)\n",
    "    \n",
    "    conv2 = Conv2D(128, (3, 3), activation='relu', padding='same')(pool1)\n",
    "    conv2 = Conv2D(128, (3, 3), activation='relu', padding='same')(conv2)\n",
    "    pool2 = MaxPooling2D((2, 2))(conv2)\n",
    "    \n",
    "    conv3 = Conv2D(256, (3, 3), activation='relu', padding='same')(pool2)\n",
    "    conv3 = Conv2D(256, (3, 3), activation='relu', padding='same')(conv3)\n",
    "    pool3 = MaxPooling2D((2, 2))(conv3)\n",
    "    \n",
    "    conv4 = Conv2D(512, (3, 3), activation='relu', padding='same')(pool3)\n",
    "    conv4 = Conv2D(512, (3, 3), activation='relu', padding='same')(conv4)\n",
    "    \n",
    "    # Decoder\n",
    "    up5 = Concatenate()([UpSampling2D((2, 2))(conv4), conv3])\n",
    "    conv5 = Conv2D(256, (3, 3), activation='relu', padding='same')(up5)\n",
    "    conv5 = Conv2D(256, (3, 3), activation='relu', padding='same')(conv5)\n",
    "    \n",
    "    up6 = Concatenate()([UpSampling2D((2, 2))(conv5), conv2])\n",
    "    conv6 = Conv2D(128, (3, 3), activation='relu', padding='same')(up6)\n",
    "    conv6 = Conv2D(128, (3, 3), activation='relu', padding='same')(conv6)\n",
    "    \n",
    "    up7 = Concatenate()([UpSampling2D((2, 2))(conv6), conv1])\n",
    "    conv7 = Conv2D(64, (3, 3), activation='relu', padding='same')(up7)\n",
    "    conv7 = Conv2D(64, (3, 3), activation='relu', padding='same')(conv7)\n",
    "    \n",
    "    outputs = Conv2D(num_classes, (1, 1), activation='softmax')(conv7)\n",
    "    \n",
    "    model = Model(inputs, outputs)\n",
    "    return model\n",
    "\n",
    "# Define the input shape and number of classes\n",
    "input_shape = (img_height, img_width, img_channels)\n",
    "num_classes = 2\n",
    "\n",
    "# Create an instance of the LinkNet model\n",
    "model = linknet(input_shape, num_classes)\n",
    "\n",
    "# Compile the model with an appropriate optimizer and loss function\n",
    "model.compile(optimizer=tf.keras.optimizers.Adam(),\n",
    "              loss=tf.keras.losses.SparseCategoricalCrossentropy(),\n",
    "              metrics=[tf.keras.metrics.SparseCategoricalAccuracy()])\n"
   ]
  },
  {
   "cell_type": "code",
   "execution_count": 9,
   "id": "ef8d5c07",
   "metadata": {},
   "outputs": [
    {
     "name": "stdout",
     "output_type": "stream",
     "text": [
      "Epoch 1/20\n"
     ]
    },
    {
     "name": "stderr",
     "output_type": "stream",
     "text": [
      "2023-05-07 12:23:55.279898: W tensorflow/core/platform/profile_utils/cpu_utils.cc:128] Failed to get CPU frequency: 0 Hz\n"
     ]
    },
    {
     "name": "stdout",
     "output_type": "stream",
     "text": [
      "48/48 [==============================] - 456s 9s/step - loss: 3.1534 - sparse_categorical_accuracy: 0.7846 - val_loss: 0.4232 - val_sparse_categorical_accuracy: 0.8365\n",
      "Epoch 2/20\n",
      "48/48 [==============================] - 443s 9s/step - loss: 0.4187 - sparse_categorical_accuracy: 0.8350 - val_loss: 0.4118 - val_sparse_categorical_accuracy: 0.8345\n",
      "Epoch 3/20\n",
      "48/48 [==============================] - 498s 10s/step - loss: 0.4019 - sparse_categorical_accuracy: 0.8341 - val_loss: 0.3834 - val_sparse_categorical_accuracy: 0.8358\n",
      "Epoch 4/20\n",
      "48/48 [==============================] - 454s 9s/step - loss: 0.4114 - sparse_categorical_accuracy: 0.8348 - val_loss: 0.4074 - val_sparse_categorical_accuracy: 0.8366\n",
      "Epoch 5/20\n",
      "48/48 [==============================] - 461s 10s/step - loss: 0.3723 - sparse_categorical_accuracy: 0.8347 - val_loss: 0.4307 - val_sparse_categorical_accuracy: 0.8366\n",
      "Epoch 6/20\n",
      "48/48 [==============================] - 456s 10s/step - loss: 0.4001 - sparse_categorical_accuracy: 0.8334 - val_loss: 0.3650 - val_sparse_categorical_accuracy: 0.8334\n",
      "Epoch 7/20\n",
      "48/48 [==============================] - 457s 10s/step - loss: 0.3701 - sparse_categorical_accuracy: 0.8347 - val_loss: 0.3372 - val_sparse_categorical_accuracy: 0.8365\n",
      "Epoch 8/20\n",
      "48/48 [==============================] - 473s 10s/step - loss: 0.3484 - sparse_categorical_accuracy: 0.8363 - val_loss: 0.3304 - val_sparse_categorical_accuracy: 0.8395\n",
      "Epoch 9/20\n",
      "48/48 [==============================] - 469s 10s/step - loss: 0.3393 - sparse_categorical_accuracy: 0.8385 - val_loss: 0.3141 - val_sparse_categorical_accuracy: 0.8435\n",
      "Epoch 10/20\n",
      "48/48 [==============================] - 481s 10s/step - loss: 0.3325 - sparse_categorical_accuracy: 0.8399 - val_loss: 0.3137 - val_sparse_categorical_accuracy: 0.8427\n",
      "Epoch 11/20\n",
      "48/48 [==============================] - 465s 10s/step - loss: 0.3324 - sparse_categorical_accuracy: 0.8402 - val_loss: 0.3075 - val_sparse_categorical_accuracy: 0.8448\n",
      "Epoch 12/20\n",
      "48/48 [==============================] - 472s 10s/step - loss: 0.3246 - sparse_categorical_accuracy: 0.8406 - val_loss: 0.3056 - val_sparse_categorical_accuracy: 0.8432\n",
      "Epoch 13/20\n",
      "48/48 [==============================] - 458s 10s/step - loss: 0.3205 - sparse_categorical_accuracy: 0.8414 - val_loss: 0.3088 - val_sparse_categorical_accuracy: 0.8439\n",
      "Epoch 14/20\n",
      "48/48 [==============================] - 460s 10s/step - loss: 0.3135 - sparse_categorical_accuracy: 0.8428 - val_loss: 0.2955 - val_sparse_categorical_accuracy: 0.8461\n",
      "Epoch 15/20\n",
      "48/48 [==============================] - 459s 10s/step - loss: 0.3124 - sparse_categorical_accuracy: 0.8428 - val_loss: 0.2972 - val_sparse_categorical_accuracy: 0.8460\n",
      "Epoch 16/20\n",
      "48/48 [==============================] - 468s 10s/step - loss: 0.3115 - sparse_categorical_accuracy: 0.8435 - val_loss: 0.2951 - val_sparse_categorical_accuracy: 0.8458\n",
      "Epoch 17/20\n",
      "48/48 [==============================] - 469s 10s/step - loss: 0.3100 - sparse_categorical_accuracy: 0.8432 - val_loss: 0.3013 - val_sparse_categorical_accuracy: 0.8466\n",
      "Epoch 18/20\n",
      "48/48 [==============================] - 316s 7s/step - loss: 0.3080 - sparse_categorical_accuracy: 0.8445 - val_loss: 0.2928 - val_sparse_categorical_accuracy: 0.8452\n",
      "Epoch 19/20\n",
      "48/48 [==============================] - 297s 6s/step - loss: 0.3073 - sparse_categorical_accuracy: 0.8445 - val_loss: 0.2899 - val_sparse_categorical_accuracy: 0.8470\n",
      "Epoch 20/20\n",
      "48/48 [==============================] - 296s 6s/step - loss: 0.3012 - sparse_categorical_accuracy: 0.8453 - val_loss: 0.2879 - val_sparse_categorical_accuracy: 0.8477\n"
     ]
    }
   ],
   "source": [
    "from tensorflow.keras.callbacks import EarlyStopping\n",
    "\n",
    "early_stop = EarlyStopping(monitor='val_loss', patience=5, restore_best_weights=True)\n",
    "results = model.fit(X_train, y_train, validation_split=0.1, batch_size=4, epochs=20, callbacks=[early_stop])\n",
    "\n",
    "model.save('model.h5')\n"
   ]
  },
  {
   "cell_type": "code",
   "execution_count": 10,
   "id": "1b5d02c0",
   "metadata": {},
   "outputs": [
    {
     "name": "stdout",
     "output_type": "stream",
     "text": [
      "3/3 [==============================] - 34s 9s/step\n"
     ]
    }
   ],
   "source": [
    "# Convert the predictions to a numpy array and transpose the dimensions\n",
    "predictions = model.predict(X_test)\n",
    "predictions = predictions.transpose(0, 3, 1, 2)\n",
    "\n",
    "# Threshold the probability map to obtain a binary mask\n",
    "binary_mask = torch.where(torch.from_numpy(predictions[:, 1]) > 0.5, torch.tensor(1), torch.tensor(0))\n",
    "\n",
    "# Convert the binary mask to a grayscale image\n",
    "grayscale_image = (binary_mask * 255).numpy().astype('int32')\n"
   ]
  },
  {
   "cell_type": "code",
   "execution_count": 21,
   "id": "cb8fc429",
   "metadata": {},
   "outputs": [
    {
     "data": {
      "text/plain": [
       "<matplotlib.image.AxesImage at 0x15a0bec80>"
      ]
     },
     "execution_count": 21,
     "metadata": {},
     "output_type": "execute_result"
    },
    {
     "data": {
      "image/png": "[encoded data removed]",
      "text/plain": [
       "<Figure size 640x480 with 1 Axes>"
      ]
     },
     "metadata": {},
     "output_type": "display_data"
    }
   ],
   "source": [
    "plt.imshow(grayscale_image[3])"
   ]
  },
  {
   "cell_type": "code",
   "execution_count": 17,
   "id": "24178074",
   "metadata": {},
   "outputs": [],
   "source": [
    "rles = []\n",
    "\n",
    "for i in range(grayscale_image.shape[0]):\n",
    "    id = img_list_X_test[i][16:19]\n",
    "    rle = encode_mask_to_rle(grayscale_image[i])\n",
    "    rles.append(rle)\n",
    "    \n",
    "df = pd.DataFrame({'ids': [img_list_X_test[i][16:19]  for i in range(grayscale_image.shape[0])], 'labels': rles})"
   ]
  },
  {
   "cell_type": "code",
   "execution_count": 18,
   "id": "749411fb",
   "metadata": {},
   "outputs": [],
   "source": [
    "df.to_csv('Balaswamy_Rusum_2.csv', index=False)"
   ]
  },
  {
   "cell_type": "code",
   "execution_count": null,
   "id": "6d106efa",
   "metadata": {},
   "outputs": [],
   "source": [
    "plt.imshow(resize(grayscale_image[3], (240,240,1)))"
   ]
  },
  {
   "cell_type": "code",
   "execution_count": 16,
   "id": "2f90f14b",
   "metadata": {},
   "outputs": [],
   "source": [
    "def encode_mask_to_rle(mask):\n",
    "    '''\n",
    "    mask: numpy array binary mask \n",
    "    255 - mask \n",
    "    0 - background\n",
    "    Returns encoded run length \n",
    "    '''\n",
    "    pixels = mask.flatten()\n",
    "    pixels = np.concatenate([[0], pixels, [0]])\n",
    "    runs = np.where(pixels[1:] != pixels[:-1])[0] + 1\n",
    "    runs[1::2] -= runs[::2]\n",
    "    \n",
    "    return ' '.join(str(x) for x in runs)\n",
    "\n",
    "\n",
    "def decode_rle_to_mask(rle, height = 240, width = 320):\n",
    "    '''\n",
    "    rle : run-length as string formated (start value, count)\n",
    "    height : height of the mask \n",
    "    width : width of the mask\n",
    "    returns binary mask\n",
    "    '''\n",
    "    rle = np.array(rle.split(' ')).reshape(-1, 2)\n",
    "    mask = np.zeros((height*width))\n",
    "    color = 255\n",
    "    for i in rle:\n",
    "        mask[int(i[0]):int(i[0])+int(i[1])] = color\n",
    "\n",
    "    return mask.reshape(height, width)"
   ]
  },
  {
   "cell_type": "code",
   "execution_count": null,
   "id": "2462b3a0",
   "metadata": {},
   "outputs": [],
   "source": []
  }
 ],
 "metadata": {
  "kernelspec": {
   "display_name": "Python 3 (ipykernel)",
   "language": "python",
   "name": "python3"
  },
  "language_info": {
   "codemirror_mode": {
    "name": "ipython",
    "version": 3
   },
   "file_extension": ".py",
   "mimetype": "text/x-python",
   "name": "python",
   "nbconvert_exporter": "python",
   "pygments_lexer": "ipython3",
   "version": "3.10.9"
  }
 },
 "nbformat": 4,
 "nbformat_minor": 5
}
