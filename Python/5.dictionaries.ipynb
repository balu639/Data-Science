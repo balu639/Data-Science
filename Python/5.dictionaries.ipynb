{
 "cells": [
  {
   "cell_type": "code",
   "execution_count": 1,
   "id": "011bb204",
   "metadata": {},
   "outputs": [],
   "source": [
    "#creating a dictionary\n",
    "# Creating a dictionary\n",
    "person = {\n",
    "    'name': 'John',\n",
    "    'age': 30,\n",
    "    'city': 'New York'\n",
    "}\n"
   ]
  },
  {
   "cell_type": "code",
   "execution_count": 2,
   "id": "a0f857f7",
   "metadata": {},
   "outputs": [
    {
     "data": {
      "text/plain": [
       "'John'"
      ]
     },
     "execution_count": 2,
     "metadata": {},
     "output_type": "execute_result"
    }
   ],
   "source": [
    "person['name']"
   ]
  },
  {
   "cell_type": "code",
   "execution_count": 3,
   "id": "202c2a05",
   "metadata": {},
   "outputs": [
    {
     "data": {
      "text/plain": [
       "30"
      ]
     },
     "execution_count": 3,
     "metadata": {},
     "output_type": "execute_result"
    }
   ],
   "source": [
    "person['age']\n"
   ]
  },
  {
   "cell_type": "code",
   "execution_count": 4,
   "id": "e3981d04",
   "metadata": {},
   "outputs": [
    {
     "data": {
      "text/plain": [
       "'New York'"
      ]
     },
     "execution_count": 4,
     "metadata": {},
     "output_type": "execute_result"
    }
   ],
   "source": [
    "person['city']"
   ]
  },
  {
   "cell_type": "code",
   "execution_count": 5,
   "id": "5d71913b",
   "metadata": {},
   "outputs": [
    {
     "ename": "KeyError",
     "evalue": "'color'",
     "output_type": "error",
     "traceback": [
      "\u001b[0;31m---------------------------------------------------------------------------\u001b[0m",
      "\u001b[0;31mKeyError\u001b[0m                                  Traceback (most recent call last)",
      "Cell \u001b[0;32mIn[5], line 1\u001b[0m\n\u001b[0;32m----> 1\u001b[0m \u001b[43mperson\u001b[49m\u001b[43m[\u001b[49m\u001b[38;5;124;43m'\u001b[39;49m\u001b[38;5;124;43mcolor\u001b[39;49m\u001b[38;5;124;43m'\u001b[39;49m\u001b[43m]\u001b[49m\n",
      "\u001b[0;31mKeyError\u001b[0m: 'color'"
     ]
    }
   ],
   "source": [
    "person['color']"
   ]
  },
  {
   "cell_type": "code",
   "execution_count": 6,
   "id": "1b732d0f",
   "metadata": {},
   "outputs": [
    {
     "data": {
      "text/plain": [
       "'John'"
      ]
     },
     "execution_count": 6,
     "metadata": {},
     "output_type": "execute_result"
    }
   ],
   "source": [
    "#another way to access the values from dict\n",
    "\n",
    "person.get('name')"
   ]
  },
  {
   "cell_type": "code",
   "execution_count": 7,
   "id": "ce37f025",
   "metadata": {},
   "outputs": [
    {
     "data": {
      "text/plain": [
       "'New York'"
      ]
     },
     "execution_count": 7,
     "metadata": {},
     "output_type": "execute_result"
    }
   ],
   "source": [
    "person.get('city')"
   ]
  },
  {
   "cell_type": "code",
   "execution_count": 8,
   "id": "5a59a4d4",
   "metadata": {},
   "outputs": [],
   "source": [
    "person.get('color') #None"
   ]
  },
  {
   "cell_type": "code",
   "execution_count": 9,
   "id": "43b08c98",
   "metadata": {},
   "outputs": [],
   "source": [
    "#Adding new key-value pair to the dictionary(Dictionaries are mutable)\n",
    "\n",
    "person['occupation'] = \"Software Engineer\""
   ]
  },
  {
   "cell_type": "code",
   "execution_count": 10,
   "id": "ccd318e6",
   "metadata": {},
   "outputs": [
    {
     "data": {
      "text/plain": [
       "{'name': 'John',\n",
       " 'age': 30,\n",
       " 'city': 'New York',\n",
       " 'occupation': 'Software Engineer'}"
      ]
     },
     "execution_count": 10,
     "metadata": {},
     "output_type": "execute_result"
    }
   ],
   "source": [
    "person"
   ]
  },
  {
   "cell_type": "code",
   "execution_count": 11,
   "id": "f87bd3c1",
   "metadata": {},
   "outputs": [],
   "source": [
    "#Removing a key-value pair from the dictionary\n",
    "\n",
    "del person['age']"
   ]
  },
  {
   "cell_type": "code",
   "execution_count": 12,
   "id": "1c7c7ec4",
   "metadata": {},
   "outputs": [
    {
     "data": {
      "text/plain": [
       "{'name': 'John', 'city': 'New York', 'occupation': 'Software Engineer'}"
      ]
     },
     "execution_count": 12,
     "metadata": {},
     "output_type": "execute_result"
    }
   ],
   "source": [
    "person"
   ]
  },
  {
   "cell_type": "code",
   "execution_count": 13,
   "id": "72b9efbc",
   "metadata": {},
   "outputs": [
    {
     "name": "stdout",
     "output_type": "stream",
     "text": [
      "New York\n",
      "{'name': 'John', 'occupation': 'Software Engineer'}\n"
     ]
    }
   ],
   "source": [
    "#we can also use pop to retrieve key-value pair and remove from the dict\n",
    "\n",
    "city = person.pop('city')\n",
    "print(city)\n",
    "\n",
    "print(person)"
   ]
  },
  {
   "cell_type": "code",
   "execution_count": 14,
   "id": "123c89df",
   "metadata": {},
   "outputs": [],
   "source": [
    "employee = {\n",
    "    \"Name\": \"John\",\n",
    "    \"Id\": \"321562\",\n",
    "    \"City\": \"New York\",\n",
    "    \"Country\": \"United States\"\n",
    "\n",
    "}"
   ]
  },
  {
   "cell_type": "code",
   "execution_count": 15,
   "id": "42296909",
   "metadata": {},
   "outputs": [
    {
     "name": "stdout",
     "output_type": "stream",
     "text": [
      "Name\n",
      "Id\n",
      "City\n",
      "Country\n"
     ]
    }
   ],
   "source": [
    "#iterating over keys of a dictionary\n",
    "for key in employee.keys():\n",
    "    print(key)"
   ]
  },
  {
   "cell_type": "code",
   "execution_count": 16,
   "id": "6cb21478",
   "metadata": {},
   "outputs": [
    {
     "name": "stdout",
     "output_type": "stream",
     "text": [
      "John\n",
      "321562\n",
      "New York\n",
      "United States\n"
     ]
    }
   ],
   "source": [
    "#iterating over value of a dictionary\n",
    "for value in employee.values():\n",
    "    print(value)"
   ]
  },
  {
   "cell_type": "code",
   "execution_count": 17,
   "id": "50cc3f21",
   "metadata": {},
   "outputs": [
    {
     "name": "stdout",
     "output_type": "stream",
     "text": [
      "Name John\n",
      "Id 321562\n",
      "City New York\n",
      "Country United States\n"
     ]
    }
   ],
   "source": [
    "#iterating over both keys and values of a dict\n",
    "for key , value in employee.items():\n",
    "    print(key,value)"
   ]
  },
  {
   "cell_type": "code",
   "execution_count": null,
   "id": "6b737967",
   "metadata": {},
   "outputs": [],
   "source": []
  }
 ],
 "metadata": {
  "kernelspec": {
   "display_name": "Python 3 (ipykernel)",
   "language": "python",
   "name": "python3"
  },
  "language_info": {
   "codemirror_mode": {
    "name": "ipython",
    "version": 3
   },
   "file_extension": ".py",
   "mimetype": "text/x-python",
   "name": "python",
   "nbconvert_exporter": "python",
   "pygments_lexer": "ipython3",
   "version": "3.10.9"
  }
 },
 "nbformat": 4,
 "nbformat_minor": 5
}
