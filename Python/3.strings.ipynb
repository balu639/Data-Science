{
 "cells": [
  {
   "cell_type": "code",
   "execution_count": 1,
   "id": "4204c765",
   "metadata": {},
   "outputs": [
    {
     "name": "stdout",
     "output_type": "stream",
     "text": [
      "Hello world\n"
     ]
    }
   ],
   "source": [
    "x = \"Hello world\"\n",
    "print(x)"
   ]
  },
  {
   "cell_type": "code",
   "execution_count": 2,
   "id": "a17afbd8",
   "metadata": {},
   "outputs": [
    {
     "name": "stdout",
     "output_type": "stream",
     "text": [
      "<class 'str'>\n"
     ]
    }
   ],
   "source": [
    "print(type(x))"
   ]
  },
  {
   "cell_type": "code",
   "execution_count": 3,
   "id": "794bdefb",
   "metadata": {},
   "outputs": [
    {
     "name": "stdout",
     "output_type": "stream",
     "text": [
      "H\n"
     ]
    }
   ],
   "source": [
    "#Accessing the characters in a string\n",
    "\n",
    "y = x[0] #using index\n",
    "\n",
    "print(y)"
   ]
  },
  {
   "cell_type": "code",
   "execution_count": 4,
   "id": "ab5586b2",
   "metadata": {},
   "outputs": [
    {
     "name": "stdout",
     "output_type": "stream",
     "text": [
      "11\n"
     ]
    }
   ],
   "source": [
    "#length of the string\n",
    "\n",
    "z = len(x)\n",
    "\n",
    "print(z)"
   ]
  },
  {
   "cell_type": "code",
   "execution_count": 5,
   "id": "970cdae4",
   "metadata": {},
   "outputs": [
    {
     "name": "stdout",
     "output_type": "stream",
     "text": [
      "Hello,Bob\n"
     ]
    }
   ],
   "source": [
    "#Concatenating two strings\n",
    "\n",
    "string1 = \"Hello\"\n",
    "\n",
    "string2 = \"Bob\"\n",
    "\n",
    "string3 = string1 + \",\" + string2\n",
    "\n",
    "print(string3)"
   ]
  },
  {
   "cell_type": "code",
   "execution_count": 1,
   "id": "d08f32db",
   "metadata": {},
   "outputs": [
    {
     "name": "stdout",
     "output_type": "stream",
     "text": [
      "My name is Bob and i am 10 years old\n"
     ]
    }
   ],
   "source": [
    "#String formatting using f-strings\n",
    "\n",
    "name = \"Bob\"\n",
    "age = 10\n",
    "\n",
    "string_f = f\"My name is {name} and i am {age} years old\"\n",
    "print(string_f)\n",
    "\n"
   ]
  },
  {
   "cell_type": "code",
   "execution_count": 4,
   "id": "03b6db24",
   "metadata": {},
   "outputs": [
    {
     "data": {
      "text/plain": [
       "'My name is Bob and i am 10 years old'"
      ]
     },
     "execution_count": 4,
     "metadata": {},
     "output_type": "execute_result"
    }
   ],
   "source": [
    "string_f1 = \"My name is {} and i am {} years old\".format(name,age)\n",
    "string_f1"
   ]
  },
  {
   "cell_type": "code",
   "execution_count": 8,
   "id": "b77a18fd",
   "metadata": {},
   "outputs": [
    {
     "name": "stdout",
     "output_type": "stream",
     "text": [
      "HELLO WORLD\n",
      "hello world\n"
     ]
    }
   ],
   "source": [
    "#string methods\n",
    "string = \"Hello World\"\n",
    "print(string.upper())\n",
    "print(string.lower())"
   ]
  },
  {
   "cell_type": "code",
   "execution_count": 11,
   "id": "5f0f73a1",
   "metadata": {},
   "outputs": [
    {
     "data": {
      "text/plain": [
       "['Hello', 'World']"
      ]
     },
     "execution_count": 11,
     "metadata": {},
     "output_type": "execute_result"
    }
   ],
   "source": [
    "words = string.split()\n",
    "words"
   ]
  },
  {
   "cell_type": "code",
   "execution_count": 12,
   "id": "fb85412a",
   "metadata": {},
   "outputs": [
    {
     "data": {
      "text/plain": [
       "'Hello'"
      ]
     },
     "execution_count": 12,
     "metadata": {},
     "output_type": "execute_result"
    }
   ],
   "source": [
    "words[0]"
   ]
  },
  {
   "cell_type": "code",
   "execution_count": 13,
   "id": "98f4ab5e",
   "metadata": {},
   "outputs": [
    {
     "data": {
      "text/plain": [
       "'World'"
      ]
     },
     "execution_count": 13,
     "metadata": {},
     "output_type": "execute_result"
    }
   ],
   "source": [
    "words[1]"
   ]
  },
  {
   "cell_type": "code",
   "execution_count": 14,
   "id": "5aea423d",
   "metadata": {},
   "outputs": [
    {
     "name": "stdout",
     "output_type": "stream",
     "text": [
      "Hello,World\n"
     ]
    }
   ],
   "source": [
    "string1 = \",\".join(words)\n",
    "print(string1)"
   ]
  },
  {
   "cell_type": "code",
   "execution_count": 15,
   "id": "35be3947",
   "metadata": {},
   "outputs": [
    {
     "name": "stdout",
     "output_type": "stream",
     "text": [
      "Hi,World\n"
     ]
    }
   ],
   "source": [
    "#replace the substring with a new substring in a string\n",
    "\n",
    "print(string1.replace(\"Hello\", \"Hi\"))"
   ]
  },
  {
   "cell_type": "code",
   "execution_count": 16,
   "id": "e7fbdd51",
   "metadata": {},
   "outputs": [
    {
     "name": "stdout",
     "output_type": "stream",
     "text": [
      "Hi,World\n"
     ]
    }
   ],
   "source": [
    "print(string1.replace(\"Hello\",\"Hi\", 2))"
   ]
  },
  {
   "cell_type": "code",
   "execution_count": 18,
   "id": "61564f27",
   "metadata": {},
   "outputs": [
    {
     "name": "stdout",
     "output_type": "stream",
     "text": [
      "6\n"
     ]
    }
   ],
   "source": [
    "#find a substring using find method, return the index where the substring was found\n",
    "\n",
    "index = string1.find(\"World\")\n",
    "\n",
    "print(index)"
   ]
  },
  {
   "cell_type": "code",
   "execution_count": 19,
   "id": "83e1fac9",
   "metadata": {},
   "outputs": [
    {
     "name": "stdout",
     "output_type": "stream",
     "text": [
      "lo,W\n",
      "Hello,Wo\n",
      "lo,World\n",
      "HloWrd\n"
     ]
    }
   ],
   "source": [
    "#String slicing\n",
    "\n",
    "print(string1[3:7])\n",
    "print(string1[:8])\n",
    "print(string1[3:])\n",
    "print(string1[: :2])"
   ]
  },
  {
   "cell_type": "code",
   "execution_count": null,
   "id": "8cb2d977",
   "metadata": {},
   "outputs": [],
   "source": []
  }
 ],
 "metadata": {
  "kernelspec": {
   "display_name": "Python 3 (ipykernel)",
   "language": "python",
   "name": "python3"
  },
  "language_info": {
   "codemirror_mode": {
    "name": "ipython",
    "version": 3
   },
   "file_extension": ".py",
   "mimetype": "text/x-python",
   "name": "python",
   "nbconvert_exporter": "python",
   "pygments_lexer": "ipython3",
   "version": "3.10.9"
  }
 },
 "nbformat": 4,
 "nbformat_minor": 5
}
