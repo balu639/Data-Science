{
 "cells": [
  {
   "cell_type": "code",
   "execution_count": 1,
   "id": "97575b6f",
   "metadata": {},
   "outputs": [],
   "source": [
    "import json\n"
   ]
  },
  {
   "cell_type": "code",
   "execution_count": 3,
   "id": "5c247899",
   "metadata": {},
   "outputs": [],
   "source": [
    "employees = {}"
   ]
  },
  {
   "cell_type": "code",
   "execution_count": 4,
   "id": "1dc3c7d7",
   "metadata": {},
   "outputs": [],
   "source": [
    "employees['tom'] = {\n",
    "    'name': 'tom',\n",
    "    'age': 21,\n",
    "    'city': 'New York',\n",
    "    'id': 32421\n",
    "}"
   ]
  },
  {
   "cell_type": "code",
   "execution_count": 5,
   "id": "a608ee98",
   "metadata": {},
   "outputs": [],
   "source": [
    "employees['mike'] = {\n",
    "    'name': 'mike',\n",
    "    'age': 34,\n",
    "    'city': 'Chicago',\n",
    "    'id': 23213\n",
    "}"
   ]
  },
  {
   "cell_type": "code",
   "execution_count": 11,
   "id": "9abd4ba2",
   "metadata": {},
   "outputs": [],
   "source": [
    "#dump the dictionary to a string (dump s)\n",
    "json_data = json.dumps(employees)"
   ]
  },
  {
   "cell_type": "code",
   "execution_count": 9,
   "id": "412d375d",
   "metadata": {},
   "outputs": [
    {
     "data": {
      "text/plain": [
       "dict"
      ]
     },
     "execution_count": 9,
     "metadata": {},
     "output_type": "execute_result"
    }
   ],
   "source": [
    "type(employees)"
   ]
  },
  {
   "cell_type": "code",
   "execution_count": 12,
   "id": "065a93fd",
   "metadata": {},
   "outputs": [
    {
     "data": {
      "text/plain": [
       "{'tom': {'name': 'tom', 'age': 21, 'city': 'New York', 'id': 32421},\n",
       " 'mike': {'name': 'mike', 'age': 34, 'city': 'Chicago', 'id': 23213}}"
      ]
     },
     "execution_count": 12,
     "metadata": {},
     "output_type": "execute_result"
    }
   ],
   "source": [
    "#string back to dictionary\n",
    "\n",
    "new_dict = json.loads(json_data)\n",
    "\n",
    "new_dict"
   ]
  },
  {
   "cell_type": "code",
   "execution_count": null,
   "id": "34d85023",
   "metadata": {},
   "outputs": [],
   "source": []
  }
 ],
 "metadata": {
  "kernelspec": {
   "display_name": "Python 3 (ipykernel)",
   "language": "python",
   "name": "python3"
  },
  "language_info": {
   "codemirror_mode": {
    "name": "ipython",
    "version": 3
   },
   "file_extension": ".py",
   "mimetype": "text/x-python",
   "name": "python",
   "nbconvert_exporter": "python",
   "pygments_lexer": "ipython3",
   "version": "3.10.9"
  }
 },
 "nbformat": 4,
 "nbformat_minor": 5
}
