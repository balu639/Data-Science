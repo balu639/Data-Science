{
 "cells": [
  {
   "cell_type": "code",
   "execution_count": 5,
   "id": "6a5a63a6",
   "metadata": {},
   "outputs": [
    {
     "name": "stdout",
     "output_type": "stream",
     "text": [
      "Enter number1:10\n",
      "Enter number2:0\n",
      "Exception occured: division by zero\n",
      "Division:  None\n"
     ]
    }
   ],
   "source": [
    "x = input(\"Enter number1:\")\n",
    "y = input(\"Enter number2:\")\n",
    "\n",
    "try:\n",
    "    z = int(x) / int(y)\n",
    "except Exception as e:\n",
    "    print(\"Exception occured:\", e)\n",
    "    z = None\n",
    "print(\"Division: \", z)"
   ]
  },
  {
   "cell_type": "code",
   "execution_count": 7,
   "id": "99e80b92",
   "metadata": {},
   "outputs": [
    {
     "name": "stdout",
     "output_type": "stream",
     "text": [
      "Enter number1:10\n",
      "Enter number2:0\n",
      "exception type: TypeError\n",
      "Division:  None\n"
     ]
    }
   ],
   "source": [
    "x = input(\"Enter number1:\")\n",
    "y = input(\"Enter number2:\")\n",
    "\n",
    "try:\n",
    "    z = x / int(y)\n",
    "except ZeroDivisionError as e:\n",
    "    print(\"Division by zero\")\n",
    "    z = None\n",
    "except Exception as e:\n",
    "    print('exception type:', type(e).__name__)\n",
    "    z = None\n",
    "print(\"Division: \", z)"
   ]
  },
  {
   "cell_type": "code",
   "execution_count": null,
   "id": "c6741b9f",
   "metadata": {},
   "outputs": [],
   "source": []
  }
 ],
 "metadata": {
  "kernelspec": {
   "display_name": "Python 3 (ipykernel)",
   "language": "python",
   "name": "python3"
  },
  "language_info": {
   "codemirror_mode": {
    "name": "ipython",
    "version": 3
   },
   "file_extension": ".py",
   "mimetype": "text/x-python",
   "name": "python",
   "nbconvert_exporter": "python",
   "pygments_lexer": "ipython3",
   "version": "3.10.9"
  }
 },
 "nbformat": 4,
 "nbformat_minor": 5
}
