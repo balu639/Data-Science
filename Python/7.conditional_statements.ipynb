{
 "cells": [
  {
   "cell_type": "code",
   "execution_count": 2,
   "id": "5bce0197",
   "metadata": {},
   "outputs": [
    {
     "name": "stdout",
     "output_type": "stream",
     "text": [
      "x is not equal to 10\n"
     ]
    }
   ],
   "source": [
    "#if condition \n",
    "\n",
    "x = 12\n",
    "\n",
    "if x != 10:\n",
    "    print(\"x is not equal to 10\")"
   ]
  },
  {
   "cell_type": "code",
   "execution_count": 3,
   "id": "1c6923c1",
   "metadata": {},
   "outputs": [
    {
     "name": "stdout",
     "output_type": "stream",
     "text": [
      "x is equal to 12\n"
     ]
    }
   ],
   "source": [
    "#if else condition\n",
    "\n",
    "if x == 12:\n",
    "    print(\"x is equal to 12\")\n",
    "else:\n",
    "    print(\"x is not equal to 12\")"
   ]
  },
  {
   "cell_type": "code",
   "execution_count": 4,
   "id": "92dbabbe",
   "metadata": {},
   "outputs": [
    {
     "name": "stdout",
     "output_type": "stream",
     "text": [
      "x is equal to 12\n"
     ]
    }
   ],
   "source": [
    "#if-elif-else condition\n",
    "\n",
    "if x != 12:\n",
    "    print(\"x is not equal to 12\")\n",
    "elif x == 12:\n",
    "    print(\"x is equal to 12\")\n",
    "else:\n",
    "    print(\" x is some other value\")"
   ]
  },
  {
   "cell_type": "code",
   "execution_count": null,
   "id": "47e26781",
   "metadata": {},
   "outputs": [],
   "source": []
  }
 ],
 "metadata": {
  "kernelspec": {
   "display_name": "Python 3 (ipykernel)",
   "language": "python",
   "name": "python3"
  },
  "language_info": {
   "codemirror_mode": {
    "name": "ipython",
    "version": 3
   },
   "file_extension": ".py",
   "mimetype": "text/x-python",
   "name": "python",
   "nbconvert_exporter": "python",
   "pygments_lexer": "ipython3",
   "version": "3.10.9"
  }
 },
 "nbformat": 4,
 "nbformat_minor": 5
}
